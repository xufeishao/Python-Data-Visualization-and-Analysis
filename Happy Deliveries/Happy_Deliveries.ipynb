{
 "cells": [
  {
   "cell_type": "markdown",
   "id": "1d2820fa",
   "metadata": {},
   "source": [
    "# Import libraries"
   ]
  },
  {
   "cell_type": "code",
   "execution_count": 101,
   "id": "9644ba5e",
   "metadata": {},
   "outputs": [],
   "source": [
    "import pandas as pd\n",
    "import matplotlib.pyplot as plt\n",
    "import seaborn as sns\n",
    "import numpy as np"
   ]
  },
  {
   "cell_type": "markdown",
   "id": "93be6455",
   "metadata": {},
   "source": [
    "# Read datasets of 'orders' and 'customers' and create two dataframes"
   ]
  },
  {
   "cell_type": "code",
   "execution_count": 102,
   "id": "2bc0a7a7",
   "metadata": {},
   "outputs": [],
   "source": [
    "hd_order = pd.read_csv('/Users/xufeishao/Desktop/Bootcamp/003 Python/project/Happy Deliveries/data/hd_orders.csv')"
   ]
  },
  {
   "cell_type": "code",
   "execution_count": 103,
   "id": "ecb6d0b9",
   "metadata": {},
   "outputs": [],
   "source": [
    "hd_customer = pd.read_excel('/Users/xufeishao/Desktop/Bootcamp/003 Python/project/Happy Deliveries/data/hd_customers.xlsx')"
   ]
  },
  {
   "cell_type": "markdown",
   "id": "c245f1d7",
   "metadata": {},
   "source": [
    "# Data preparation"
   ]
  },
  {
   "cell_type": "markdown",
   "id": "eafe03e0",
   "metadata": {},
   "source": [
    "## Step 1: A quick look into the data"
   ]
  },
  {
   "cell_type": "code",
   "execution_count": 104,
   "id": "68d2f786",
   "metadata": {},
   "outputs": [
    {
     "data": {
      "text/html": [
       "<div>\n",
       "<style scoped>\n",
       "    .dataframe tbody tr th:only-of-type {\n",
       "        vertical-align: middle;\n",
       "    }\n",
       "\n",
       "    .dataframe tbody tr th {\n",
       "        vertical-align: top;\n",
       "    }\n",
       "\n",
       "    .dataframe thead th {\n",
       "        text-align: right;\n",
       "    }\n",
       "</style>\n",
       "<table border=\"1\" class=\"dataframe\">\n",
       "  <thead>\n",
       "    <tr style=\"text-align: right;\">\n",
       "      <th></th>\n",
       "      <th>order_id</th>\n",
       "      <th>order_timestamp</th>\n",
       "      <th>delivered_timestamp</th>\n",
       "      <th>driver_id</th>\n",
       "      <th>restaurant_id</th>\n",
       "      <th>cust_id</th>\n",
       "      <th>delivery_region</th>\n",
       "      <th>discount_applied</th>\n",
       "      <th>discount_code</th>\n",
       "      <th>order_total</th>\n",
       "      <th>discount_pc</th>\n",
       "      <th>status</th>\n",
       "    </tr>\n",
       "  </thead>\n",
       "  <tbody>\n",
       "    <tr>\n",
       "      <th>0</th>\n",
       "      <td>100001</td>\n",
       "      <td>26/11/2021 18:22</td>\n",
       "      <td>26/11/2021 18:49</td>\n",
       "      <td>273</td>\n",
       "      <td>105</td>\n",
       "      <td>1016</td>\n",
       "      <td>Dublin</td>\n",
       "      <td>True</td>\n",
       "      <td>BLACKFRIDAY21</td>\n",
       "      <td>69.46</td>\n",
       "      <td>20.0</td>\n",
       "      <td>COMPLETED</td>\n",
       "    </tr>\n",
       "    <tr>\n",
       "      <th>1</th>\n",
       "      <td>100002</td>\n",
       "      <td>11/07/2021 21:23</td>\n",
       "      <td>11/07/2021 21:53</td>\n",
       "      <td>43</td>\n",
       "      <td>219</td>\n",
       "      <td>1017</td>\n",
       "      <td>Cork</td>\n",
       "      <td>False</td>\n",
       "      <td>NaN</td>\n",
       "      <td>69.40</td>\n",
       "      <td>NaN</td>\n",
       "      <td>COMPLETED</td>\n",
       "    </tr>\n",
       "    <tr>\n",
       "      <th>2</th>\n",
       "      <td>100003</td>\n",
       "      <td>27/04/2021 17:28</td>\n",
       "      <td>27/04/2021 17:55</td>\n",
       "      <td>299</td>\n",
       "      <td>48</td>\n",
       "      <td>1019</td>\n",
       "      <td>Dublin</td>\n",
       "      <td>False</td>\n",
       "      <td>NaN</td>\n",
       "      <td>47.16</td>\n",
       "      <td>NaN</td>\n",
       "      <td>COMPLETED</td>\n",
       "    </tr>\n",
       "    <tr>\n",
       "      <th>3</th>\n",
       "      <td>100004</td>\n",
       "      <td>22/02/2021 18:08</td>\n",
       "      <td>22/02/2021 18:35</td>\n",
       "      <td>320</td>\n",
       "      <td>233</td>\n",
       "      <td>1020</td>\n",
       "      <td>Dublin</td>\n",
       "      <td>False</td>\n",
       "      <td>NaN</td>\n",
       "      <td>47.15</td>\n",
       "      <td>NaN</td>\n",
       "      <td>COMPLETED</td>\n",
       "    </tr>\n",
       "    <tr>\n",
       "      <th>4</th>\n",
       "      <td>100005</td>\n",
       "      <td>21/06/2021 18:14</td>\n",
       "      <td>21/06/2021 18:44</td>\n",
       "      <td>41</td>\n",
       "      <td>207</td>\n",
       "      <td>1024</td>\n",
       "      <td>Dublin</td>\n",
       "      <td>False</td>\n",
       "      <td>NaN</td>\n",
       "      <td>47.00</td>\n",
       "      <td>NaN</td>\n",
       "      <td>COMPLETED</td>\n",
       "    </tr>\n",
       "  </tbody>\n",
       "</table>\n",
       "</div>"
      ],
      "text/plain": [
       "   order_id   order_timestamp delivered_timestamp  driver_id  restaurant_id   \n",
       "0    100001  26/11/2021 18:22    26/11/2021 18:49        273            105  \\\n",
       "1    100002  11/07/2021 21:23    11/07/2021 21:53         43            219   \n",
       "2    100003  27/04/2021 17:28    27/04/2021 17:55        299             48   \n",
       "3    100004  22/02/2021 18:08    22/02/2021 18:35        320            233   \n",
       "4    100005  21/06/2021 18:14    21/06/2021 18:44         41            207   \n",
       "\n",
       "   cust_id delivery_region  discount_applied  discount_code  order_total   \n",
       "0     1016          Dublin              True  BLACKFRIDAY21        69.46  \\\n",
       "1     1017            Cork             False            NaN        69.40   \n",
       "2     1019          Dublin             False            NaN        47.16   \n",
       "3     1020          Dublin             False            NaN        47.15   \n",
       "4     1024          Dublin             False            NaN        47.00   \n",
       "\n",
       "   discount_pc     status  \n",
       "0         20.0  COMPLETED  \n",
       "1          NaN  COMPLETED  \n",
       "2          NaN  COMPLETED  \n",
       "3          NaN  COMPLETED  \n",
       "4          NaN  COMPLETED  "
      ]
     },
     "execution_count": 104,
     "metadata": {},
     "output_type": "execute_result"
    }
   ],
   "source": [
    "hd_order.head()"
   ]
  },
  {
   "cell_type": "code",
   "execution_count": 36,
   "id": "1151ef5e",
   "metadata": {},
   "outputs": [
    {
     "data": {
      "text/html": [
       "<div>\n",
       "<style scoped>\n",
       "    .dataframe tbody tr th:only-of-type {\n",
       "        vertical-align: middle;\n",
       "    }\n",
       "\n",
       "    .dataframe tbody tr th {\n",
       "        vertical-align: top;\n",
       "    }\n",
       "\n",
       "    .dataframe thead th {\n",
       "        text-align: right;\n",
       "    }\n",
       "</style>\n",
       "<table border=\"1\" class=\"dataframe\">\n",
       "  <thead>\n",
       "    <tr style=\"text-align: right;\">\n",
       "      <th></th>\n",
       "      <th>id</th>\n",
       "      <th>first_name</th>\n",
       "      <th>last_name</th>\n",
       "      <th>age</th>\n",
       "      <th>city</th>\n",
       "      <th>email</th>\n",
       "    </tr>\n",
       "  </thead>\n",
       "  <tbody>\n",
       "    <tr>\n",
       "      <th>0</th>\n",
       "      <td>1001</td>\n",
       "      <td>Samuel</td>\n",
       "      <td>Zavala</td>\n",
       "      <td>139</td>\n",
       "      <td>Dublin</td>\n",
       "      <td>Zavala_Samuel46@xfinity.com</td>\n",
       "    </tr>\n",
       "    <tr>\n",
       "      <th>1</th>\n",
       "      <td>1002</td>\n",
       "      <td>Sara</td>\n",
       "      <td>Lee</td>\n",
       "      <td>33</td>\n",
       "      <td>Dublin</td>\n",
       "      <td>Sara.L@hotmail.com</td>\n",
       "    </tr>\n",
       "    <tr>\n",
       "      <th>2</th>\n",
       "      <td>1003</td>\n",
       "      <td>Michael</td>\n",
       "      <td>Davidson</td>\n",
       "      <td>23</td>\n",
       "      <td>Dublin</td>\n",
       "      <td>MichaelDavidson82@att.com</td>\n",
       "    </tr>\n",
       "    <tr>\n",
       "      <th>3</th>\n",
       "      <td>1004</td>\n",
       "      <td>Willie</td>\n",
       "      <td>Sims</td>\n",
       "      <td>29</td>\n",
       "      <td>Sligo</td>\n",
       "      <td>Willie_S@yahoo.com</td>\n",
       "    </tr>\n",
       "    <tr>\n",
       "      <th>4</th>\n",
       "      <td>1005</td>\n",
       "      <td>Carly</td>\n",
       "      <td>Armstrong</td>\n",
       "      <td>22</td>\n",
       "      <td>Mayo</td>\n",
       "      <td>CArmstrong@mail.com</td>\n",
       "    </tr>\n",
       "  </tbody>\n",
       "</table>\n",
       "</div>"
      ],
      "text/plain": [
       "     id first_name  last_name  age    city                        email\n",
       "0  1001     Samuel     Zavala  139  Dublin  Zavala_Samuel46@xfinity.com\n",
       "1  1002       Sara        Lee   33  Dublin           Sara.L@hotmail.com\n",
       "2  1003    Michael   Davidson   23  Dublin    MichaelDavidson82@att.com\n",
       "3  1004     Willie       Sims   29   Sligo           Willie_S@yahoo.com\n",
       "4  1005      Carly  Armstrong   22    Mayo          CArmstrong@mail.com"
      ]
     },
     "execution_count": 36,
     "metadata": {},
     "output_type": "execute_result"
    }
   ],
   "source": [
    "hd_customer.head()"
   ]
  },
  {
   "cell_type": "markdown",
   "id": "a87f8dc5",
   "metadata": {},
   "source": [
    "## Step 2: Check null values in both dataframes"
   ]
  },
  {
   "cell_type": "code",
   "execution_count": 37,
   "id": "45a2b03a",
   "metadata": {},
   "outputs": [
    {
     "data": {
      "text/plain": [
       "order_id                 0\n",
       "order_timestamp          0\n",
       "delivered_timestamp      7\n",
       "driver_id                0\n",
       "restaurant_id            0\n",
       "cust_id                  0\n",
       "delivery_region          0\n",
       "discount_applied         0\n",
       "discount_code          906\n",
       "order_total              0\n",
       "discount_pc            906\n",
       "status                   0\n",
       "dtype: int64"
      ]
     },
     "execution_count": 37,
     "metadata": {},
     "output_type": "execute_result"
    }
   ],
   "source": [
    "hd_order.isnull().sum()"
   ]
  },
  {
   "cell_type": "code",
   "execution_count": 38,
   "id": "555f4847",
   "metadata": {},
   "outputs": [
    {
     "data": {
      "text/plain": [
       "id            0\n",
       "first_name    0\n",
       "last_name     0\n",
       "age           0\n",
       "city          0\n",
       "email         0\n",
       "dtype: int64"
      ]
     },
     "execution_count": 38,
     "metadata": {},
     "output_type": "execute_result"
    }
   ],
   "source": [
    "hd_customer.isnull().sum()"
   ]
  },
  {
   "cell_type": "markdown",
   "id": "624eb46a",
   "metadata": {},
   "source": [
    "## Step 3: Check whether hd_order and hd_customer have same number of unique customer IDs, to see whether there are customers in hd_order are non-loyalty card holders."
   ]
  },
  {
   "cell_type": "code",
   "execution_count": 39,
   "id": "7ceb8bb9",
   "metadata": {},
   "outputs": [
    {
     "data": {
      "text/plain": [
       "406"
      ]
     },
     "execution_count": 39,
     "metadata": {},
     "output_type": "execute_result"
    }
   ],
   "source": [
    "hd_order['cust_id'].nunique()"
   ]
  },
  {
   "cell_type": "code",
   "execution_count": 40,
   "id": "9546a83e",
   "metadata": {},
   "outputs": [
    {
     "data": {
      "text/plain": [
       "406"
      ]
     },
     "execution_count": 40,
     "metadata": {},
     "output_type": "execute_result"
    }
   ],
   "source": [
    "hd_customer['id'].nunique()"
   ]
  },
  {
   "cell_type": "markdown",
   "id": "993fb15a",
   "metadata": {},
   "source": [
    "## Step 4: Check data types in both dataframes"
   ]
  },
  {
   "cell_type": "code",
   "execution_count": 41,
   "id": "d55adb1d",
   "metadata": {},
   "outputs": [
    {
     "data": {
      "text/plain": [
       "order_id                 int64\n",
       "order_timestamp         object\n",
       "delivered_timestamp     object\n",
       "driver_id                int64\n",
       "restaurant_id            int64\n",
       "cust_id                  int64\n",
       "delivery_region         object\n",
       "discount_applied          bool\n",
       "discount_code           object\n",
       "order_total            float64\n",
       "discount_pc            float64\n",
       "status                  object\n",
       "dtype: object"
      ]
     },
     "execution_count": 41,
     "metadata": {},
     "output_type": "execute_result"
    }
   ],
   "source": [
    "hd_order.dtypes"
   ]
  },
  {
   "cell_type": "code",
   "execution_count": 42,
   "id": "f2c2f8ba",
   "metadata": {},
   "outputs": [
    {
     "data": {
      "text/plain": [
       "id             int64\n",
       "first_name    object\n",
       "last_name     object\n",
       "age            int64\n",
       "city          object\n",
       "email         object\n",
       "dtype: object"
      ]
     },
     "execution_count": 42,
     "metadata": {},
     "output_type": "execute_result"
    }
   ],
   "source": [
    "hd_customer.dtypes"
   ]
  },
  {
   "cell_type": "code",
   "execution_count": 43,
   "id": "396f3f7d",
   "metadata": {},
   "outputs": [],
   "source": [
    "# since the value type of order_time and delivery time are object, change the datatype to datetime\n",
    "hd_order['order_timestamp'] = pd.to_datetime(hd_order['order_timestamp'],dayfirst=True)"
   ]
  },
  {
   "cell_type": "code",
   "execution_count": 44,
   "id": "98110071",
   "metadata": {},
   "outputs": [],
   "source": [
    "hd_order['delivered_timestamp'] = pd.to_datetime(hd_order['delivered_timestamp'],dayfirst=True)"
   ]
  },
  {
   "cell_type": "code",
   "execution_count": 45,
   "id": "e9d9f7c0",
   "metadata": {},
   "outputs": [
    {
     "data": {
      "text/plain": [
       "order_id                        int64\n",
       "order_timestamp        datetime64[ns]\n",
       "delivered_timestamp    datetime64[ns]\n",
       "driver_id                       int64\n",
       "restaurant_id                   int64\n",
       "cust_id                         int64\n",
       "delivery_region                object\n",
       "discount_applied                 bool\n",
       "discount_code                  object\n",
       "order_total                   float64\n",
       "discount_pc                   float64\n",
       "status                         object\n",
       "dtype: object"
      ]
     },
     "execution_count": 45,
     "metadata": {},
     "output_type": "execute_result"
    }
   ],
   "source": [
    "# double check after converting the datatype\n",
    "hd_order.dtypes"
   ]
  },
  {
   "cell_type": "markdown",
   "id": "56100485",
   "metadata": {},
   "source": [
    "## Step 5: Extract month and year from order_time"
   ]
  },
  {
   "cell_type": "code",
   "execution_count": 46,
   "id": "54145f03",
   "metadata": {},
   "outputs": [],
   "source": [
    "hd_order['order_month'] = pd.to_datetime(hd_order['order_timestamp'],dayfirst=True).dt.month"
   ]
  },
  {
   "cell_type": "code",
   "execution_count": 47,
   "id": "a930e58e",
   "metadata": {},
   "outputs": [],
   "source": [
    "hd_order['order_year'] = pd.to_datetime(hd_order['order_timestamp'],dayfirst=True).dt.year"
   ]
  },
  {
   "cell_type": "code",
   "execution_count": 48,
   "id": "424fe141",
   "metadata": {},
   "outputs": [
    {
     "data": {
      "text/html": [
       "<div>\n",
       "<style scoped>\n",
       "    .dataframe tbody tr th:only-of-type {\n",
       "        vertical-align: middle;\n",
       "    }\n",
       "\n",
       "    .dataframe tbody tr th {\n",
       "        vertical-align: top;\n",
       "    }\n",
       "\n",
       "    .dataframe thead th {\n",
       "        text-align: right;\n",
       "    }\n",
       "</style>\n",
       "<table border=\"1\" class=\"dataframe\">\n",
       "  <thead>\n",
       "    <tr style=\"text-align: right;\">\n",
       "      <th></th>\n",
       "      <th>order_id</th>\n",
       "      <th>order_timestamp</th>\n",
       "      <th>delivered_timestamp</th>\n",
       "      <th>driver_id</th>\n",
       "      <th>restaurant_id</th>\n",
       "      <th>cust_id</th>\n",
       "      <th>delivery_region</th>\n",
       "      <th>discount_applied</th>\n",
       "      <th>discount_code</th>\n",
       "      <th>order_total</th>\n",
       "      <th>discount_pc</th>\n",
       "      <th>status</th>\n",
       "      <th>order_month</th>\n",
       "      <th>order_year</th>\n",
       "    </tr>\n",
       "  </thead>\n",
       "  <tbody>\n",
       "    <tr>\n",
       "      <th>0</th>\n",
       "      <td>100001</td>\n",
       "      <td>2021-11-26 18:22:00</td>\n",
       "      <td>2021-11-26 18:49:00</td>\n",
       "      <td>273</td>\n",
       "      <td>105</td>\n",
       "      <td>1016</td>\n",
       "      <td>Dublin</td>\n",
       "      <td>True</td>\n",
       "      <td>BLACKFRIDAY21</td>\n",
       "      <td>69.46</td>\n",
       "      <td>20.0</td>\n",
       "      <td>COMPLETED</td>\n",
       "      <td>11</td>\n",
       "      <td>2021</td>\n",
       "    </tr>\n",
       "    <tr>\n",
       "      <th>1</th>\n",
       "      <td>100002</td>\n",
       "      <td>2021-07-11 21:23:00</td>\n",
       "      <td>2021-07-11 21:53:00</td>\n",
       "      <td>43</td>\n",
       "      <td>219</td>\n",
       "      <td>1017</td>\n",
       "      <td>Cork</td>\n",
       "      <td>False</td>\n",
       "      <td>NaN</td>\n",
       "      <td>69.40</td>\n",
       "      <td>NaN</td>\n",
       "      <td>COMPLETED</td>\n",
       "      <td>7</td>\n",
       "      <td>2021</td>\n",
       "    </tr>\n",
       "    <tr>\n",
       "      <th>2</th>\n",
       "      <td>100003</td>\n",
       "      <td>2021-04-27 17:28:00</td>\n",
       "      <td>2021-04-27 17:55:00</td>\n",
       "      <td>299</td>\n",
       "      <td>48</td>\n",
       "      <td>1019</td>\n",
       "      <td>Dublin</td>\n",
       "      <td>False</td>\n",
       "      <td>NaN</td>\n",
       "      <td>47.16</td>\n",
       "      <td>NaN</td>\n",
       "      <td>COMPLETED</td>\n",
       "      <td>4</td>\n",
       "      <td>2021</td>\n",
       "    </tr>\n",
       "    <tr>\n",
       "      <th>3</th>\n",
       "      <td>100004</td>\n",
       "      <td>2021-02-22 18:08:00</td>\n",
       "      <td>2021-02-22 18:35:00</td>\n",
       "      <td>320</td>\n",
       "      <td>233</td>\n",
       "      <td>1020</td>\n",
       "      <td>Dublin</td>\n",
       "      <td>False</td>\n",
       "      <td>NaN</td>\n",
       "      <td>47.15</td>\n",
       "      <td>NaN</td>\n",
       "      <td>COMPLETED</td>\n",
       "      <td>2</td>\n",
       "      <td>2021</td>\n",
       "    </tr>\n",
       "    <tr>\n",
       "      <th>4</th>\n",
       "      <td>100005</td>\n",
       "      <td>2021-06-21 18:14:00</td>\n",
       "      <td>2021-06-21 18:44:00</td>\n",
       "      <td>41</td>\n",
       "      <td>207</td>\n",
       "      <td>1024</td>\n",
       "      <td>Dublin</td>\n",
       "      <td>False</td>\n",
       "      <td>NaN</td>\n",
       "      <td>47.00</td>\n",
       "      <td>NaN</td>\n",
       "      <td>COMPLETED</td>\n",
       "      <td>6</td>\n",
       "      <td>2021</td>\n",
       "    </tr>\n",
       "  </tbody>\n",
       "</table>\n",
       "</div>"
      ],
      "text/plain": [
       "   order_id     order_timestamp delivered_timestamp  driver_id  restaurant_id   \n",
       "0    100001 2021-11-26 18:22:00 2021-11-26 18:49:00        273            105  \\\n",
       "1    100002 2021-07-11 21:23:00 2021-07-11 21:53:00         43            219   \n",
       "2    100003 2021-04-27 17:28:00 2021-04-27 17:55:00        299             48   \n",
       "3    100004 2021-02-22 18:08:00 2021-02-22 18:35:00        320            233   \n",
       "4    100005 2021-06-21 18:14:00 2021-06-21 18:44:00         41            207   \n",
       "\n",
       "   cust_id delivery_region  discount_applied  discount_code  order_total   \n",
       "0     1016          Dublin              True  BLACKFRIDAY21        69.46  \\\n",
       "1     1017            Cork             False            NaN        69.40   \n",
       "2     1019          Dublin             False            NaN        47.16   \n",
       "3     1020          Dublin             False            NaN        47.15   \n",
       "4     1024          Dublin             False            NaN        47.00   \n",
       "\n",
       "   discount_pc     status  order_month  order_year  \n",
       "0         20.0  COMPLETED           11        2021  \n",
       "1          NaN  COMPLETED            7        2021  \n",
       "2          NaN  COMPLETED            4        2021  \n",
       "3          NaN  COMPLETED            2        2021  \n",
       "4          NaN  COMPLETED            6        2021  "
      ]
     },
     "execution_count": 48,
     "metadata": {},
     "output_type": "execute_result"
    }
   ],
   "source": [
    "hd_order.head()"
   ]
  },
  {
   "cell_type": "markdown",
   "id": "327356d1",
   "metadata": {},
   "source": [
    "# Data analysis"
   ]
  },
  {
   "cell_type": "markdown",
   "id": "e2130526",
   "metadata": {},
   "source": [
    "## Report 1: Compare monthly 2021 sales to 2022 and determine has ‘Happy Deliveries’ sales grown. "
   ]
  },
  {
   "cell_type": "markdown",
   "id": "d397dc98",
   "metadata": {},
   "source": [
    "### Step 1: Find out sales per month in 2021 and 2022 (exclude 'cancelled' orders)"
   ]
  },
  {
   "cell_type": "code",
   "execution_count": 49,
   "id": "2e8bf4a5",
   "metadata": {},
   "outputs": [],
   "source": [
    "sales_2021 = hd_order[(hd_order['order_year']== 2021) & (hd_order['status']=='COMPLETED')] \\\n",
    "                         .groupby('order_month')['order_total']\\\n",
    "                         .sum().to_frame('amount').reset_index()"
   ]
  },
  {
   "cell_type": "code",
   "execution_count": 50,
   "id": "b07ba9ab",
   "metadata": {},
   "outputs": [
    {
     "data": {
      "text/html": [
       "<div>\n",
       "<style scoped>\n",
       "    .dataframe tbody tr th:only-of-type {\n",
       "        vertical-align: middle;\n",
       "    }\n",
       "\n",
       "    .dataframe tbody tr th {\n",
       "        vertical-align: top;\n",
       "    }\n",
       "\n",
       "    .dataframe thead th {\n",
       "        text-align: right;\n",
       "    }\n",
       "</style>\n",
       "<table border=\"1\" class=\"dataframe\">\n",
       "  <thead>\n",
       "    <tr style=\"text-align: right;\">\n",
       "      <th></th>\n",
       "      <th>order_month</th>\n",
       "      <th>amount</th>\n",
       "    </tr>\n",
       "  </thead>\n",
       "  <tbody>\n",
       "    <tr>\n",
       "      <th>0</th>\n",
       "      <td>1</td>\n",
       "      <td>197.04</td>\n",
       "    </tr>\n",
       "    <tr>\n",
       "      <th>1</th>\n",
       "      <td>2</td>\n",
       "      <td>533.80</td>\n",
       "    </tr>\n",
       "    <tr>\n",
       "      <th>2</th>\n",
       "      <td>3</td>\n",
       "      <td>554.00</td>\n",
       "    </tr>\n",
       "    <tr>\n",
       "      <th>3</th>\n",
       "      <td>4</td>\n",
       "      <td>724.45</td>\n",
       "    </tr>\n",
       "    <tr>\n",
       "      <th>4</th>\n",
       "      <td>5</td>\n",
       "      <td>856.27</td>\n",
       "    </tr>\n",
       "    <tr>\n",
       "      <th>5</th>\n",
       "      <td>6</td>\n",
       "      <td>968.77</td>\n",
       "    </tr>\n",
       "    <tr>\n",
       "      <th>6</th>\n",
       "      <td>7</td>\n",
       "      <td>939.99</td>\n",
       "    </tr>\n",
       "    <tr>\n",
       "      <th>7</th>\n",
       "      <td>8</td>\n",
       "      <td>1204.13</td>\n",
       "    </tr>\n",
       "    <tr>\n",
       "      <th>8</th>\n",
       "      <td>9</td>\n",
       "      <td>516.01</td>\n",
       "    </tr>\n",
       "    <tr>\n",
       "      <th>9</th>\n",
       "      <td>10</td>\n",
       "      <td>731.66</td>\n",
       "    </tr>\n",
       "    <tr>\n",
       "      <th>10</th>\n",
       "      <td>11</td>\n",
       "      <td>2042.17</td>\n",
       "    </tr>\n",
       "    <tr>\n",
       "      <th>11</th>\n",
       "      <td>12</td>\n",
       "      <td>1334.00</td>\n",
       "    </tr>\n",
       "  </tbody>\n",
       "</table>\n",
       "</div>"
      ],
      "text/plain": [
       "    order_month   amount\n",
       "0             1   197.04\n",
       "1             2   533.80\n",
       "2             3   554.00\n",
       "3             4   724.45\n",
       "4             5   856.27\n",
       "5             6   968.77\n",
       "6             7   939.99\n",
       "7             8  1204.13\n",
       "8             9   516.01\n",
       "9            10   731.66\n",
       "10           11  2042.17\n",
       "11           12  1334.00"
      ]
     },
     "execution_count": 50,
     "metadata": {},
     "output_type": "execute_result"
    }
   ],
   "source": [
    "sales_2021"
   ]
  },
  {
   "cell_type": "code",
   "execution_count": 51,
   "id": "c39704dd",
   "metadata": {},
   "outputs": [],
   "source": [
    "sales_2022 = hd_order[(hd_order['order_year']== 2022) & (hd_order['status']=='COMPLETED')] \\\n",
    "                         .groupby('order_month')['order_total']\\\n",
    "                         .sum().to_frame('amount').reset_index()"
   ]
  },
  {
   "cell_type": "code",
   "execution_count": 52,
   "id": "0fd85c7f",
   "metadata": {},
   "outputs": [
    {
     "data": {
      "text/html": [
       "<div>\n",
       "<style scoped>\n",
       "    .dataframe tbody tr th:only-of-type {\n",
       "        vertical-align: middle;\n",
       "    }\n",
       "\n",
       "    .dataframe tbody tr th {\n",
       "        vertical-align: top;\n",
       "    }\n",
       "\n",
       "    .dataframe thead th {\n",
       "        text-align: right;\n",
       "    }\n",
       "</style>\n",
       "<table border=\"1\" class=\"dataframe\">\n",
       "  <thead>\n",
       "    <tr style=\"text-align: right;\">\n",
       "      <th></th>\n",
       "      <th>order_month</th>\n",
       "      <th>amount</th>\n",
       "    </tr>\n",
       "  </thead>\n",
       "  <tbody>\n",
       "    <tr>\n",
       "      <th>0</th>\n",
       "      <td>1</td>\n",
       "      <td>358.43</td>\n",
       "    </tr>\n",
       "    <tr>\n",
       "      <th>1</th>\n",
       "      <td>2</td>\n",
       "      <td>748.36</td>\n",
       "    </tr>\n",
       "    <tr>\n",
       "      <th>2</th>\n",
       "      <td>3</td>\n",
       "      <td>1014.82</td>\n",
       "    </tr>\n",
       "    <tr>\n",
       "      <th>3</th>\n",
       "      <td>4</td>\n",
       "      <td>814.01</td>\n",
       "    </tr>\n",
       "    <tr>\n",
       "      <th>4</th>\n",
       "      <td>5</td>\n",
       "      <td>958.90</td>\n",
       "    </tr>\n",
       "    <tr>\n",
       "      <th>5</th>\n",
       "      <td>6</td>\n",
       "      <td>1443.54</td>\n",
       "    </tr>\n",
       "    <tr>\n",
       "      <th>6</th>\n",
       "      <td>7</td>\n",
       "      <td>1695.97</td>\n",
       "    </tr>\n",
       "    <tr>\n",
       "      <th>7</th>\n",
       "      <td>8</td>\n",
       "      <td>1423.04</td>\n",
       "    </tr>\n",
       "    <tr>\n",
       "      <th>8</th>\n",
       "      <td>9</td>\n",
       "      <td>408.44</td>\n",
       "    </tr>\n",
       "    <tr>\n",
       "      <th>9</th>\n",
       "      <td>10</td>\n",
       "      <td>607.93</td>\n",
       "    </tr>\n",
       "    <tr>\n",
       "      <th>10</th>\n",
       "      <td>11</td>\n",
       "      <td>4498.39</td>\n",
       "    </tr>\n",
       "    <tr>\n",
       "      <th>11</th>\n",
       "      <td>12</td>\n",
       "      <td>2292.88</td>\n",
       "    </tr>\n",
       "  </tbody>\n",
       "</table>\n",
       "</div>"
      ],
      "text/plain": [
       "    order_month   amount\n",
       "0             1   358.43\n",
       "1             2   748.36\n",
       "2             3  1014.82\n",
       "3             4   814.01\n",
       "4             5   958.90\n",
       "5             6  1443.54\n",
       "6             7  1695.97\n",
       "7             8  1423.04\n",
       "8             9   408.44\n",
       "9            10   607.93\n",
       "10           11  4498.39\n",
       "11           12  2292.88"
      ]
     },
     "execution_count": 52,
     "metadata": {},
     "output_type": "execute_result"
    }
   ],
   "source": [
    "sales_2022"
   ]
  },
  {
   "cell_type": "markdown",
   "id": "ebb708d4",
   "metadata": {},
   "source": [
    "### Step 2: Line plotting comparing sales by month in 2021 and 2022"
   ]
  },
  {
   "cell_type": "code",
   "execution_count": 53,
   "id": "afe219ed",
   "metadata": {},
   "outputs": [
    {
     "data": {
      "image/png": "[encoded data removed]",
      "text/plain": [
       "<Figure size 600x400 with 1 Axes>"
      ]
     },
     "metadata": {},
     "output_type": "display_data"
    }
   ],
   "source": [
    "fig = plt.figure(figsize=(6,4))\n",
    "\n",
    "sns.set(style=\"whitegrid\")\n",
    "\n",
    "ax = sns.lineplot(data = sales_2021, x='order_month', y='amount', label='2021',marker='o')\n",
    "ax = sns.lineplot(data = sales_2022, x='order_month', y='amount', label='2022',marker='v')\n",
    "\n",
    "ax.set_title('2021 vs. 2022 Sales By Month')\n",
    "ax.set_xlabel('Month')\n",
    "ax.set_xticks(range(1, 13, 1)) \n",
    "ax.set_ylabel('Sales(in euro)')\n",
    "ax.set_yticks(range(0, 5000, 500)) \n",
    "ax.annotate('sales doubled to 4498.39 in Nov 2022',xy=(11,4498.39),xytext=(7,4560),fontsize=8,color='darkgreen')                             \n",
    "plt.show()"
   ]
  },
  {
   "cell_type": "markdown",
   "id": "82db3227",
   "metadata": {},
   "source": [
    "## Report 2: What is the age distribution of loyalty card holders?"
   ]
  },
  {
   "cell_type": "markdown",
   "id": "f83f40d1",
   "metadata": {},
   "source": [
    "### Step 1: Check the data in hd_customer"
   ]
  },
  {
   "cell_type": "code",
   "execution_count": 54,
   "id": "44be9651",
   "metadata": {},
   "outputs": [
    {
     "data": {
      "text/html": [
       "<div>\n",
       "<style scoped>\n",
       "    .dataframe tbody tr th:only-of-type {\n",
       "        vertical-align: middle;\n",
       "    }\n",
       "\n",
       "    .dataframe tbody tr th {\n",
       "        vertical-align: top;\n",
       "    }\n",
       "\n",
       "    .dataframe thead th {\n",
       "        text-align: right;\n",
       "    }\n",
       "</style>\n",
       "<table border=\"1\" class=\"dataframe\">\n",
       "  <thead>\n",
       "    <tr style=\"text-align: right;\">\n",
       "      <th></th>\n",
       "      <th>id</th>\n",
       "      <th>first_name</th>\n",
       "      <th>last_name</th>\n",
       "      <th>age</th>\n",
       "      <th>city</th>\n",
       "      <th>email</th>\n",
       "    </tr>\n",
       "  </thead>\n",
       "  <tbody>\n",
       "    <tr>\n",
       "      <th>70</th>\n",
       "      <td>1071</td>\n",
       "      <td>David</td>\n",
       "      <td>Gibson</td>\n",
       "      <td>160</td>\n",
       "      <td>Dublin</td>\n",
       "      <td>DavidGibson@xfinity.com</td>\n",
       "    </tr>\n",
       "    <tr>\n",
       "      <th>30</th>\n",
       "      <td>1031</td>\n",
       "      <td>Jessica</td>\n",
       "      <td>Hendricks</td>\n",
       "      <td>150</td>\n",
       "      <td>Dublin</td>\n",
       "      <td>Jessica.H85@xfinity.com</td>\n",
       "    </tr>\n",
       "    <tr>\n",
       "      <th>0</th>\n",
       "      <td>1001</td>\n",
       "      <td>Samuel</td>\n",
       "      <td>Zavala</td>\n",
       "      <td>139</td>\n",
       "      <td>Dublin</td>\n",
       "      <td>Zavala_Samuel46@xfinity.com</td>\n",
       "    </tr>\n",
       "    <tr>\n",
       "      <th>363</th>\n",
       "      <td>1364</td>\n",
       "      <td>Penny</td>\n",
       "      <td>Cummings</td>\n",
       "      <td>75</td>\n",
       "      <td>Galway</td>\n",
       "      <td>PCummings@zoho.com</td>\n",
       "    </tr>\n",
       "    <tr>\n",
       "      <th>8</th>\n",
       "      <td>1009</td>\n",
       "      <td>Sheri</td>\n",
       "      <td>Aguilar</td>\n",
       "      <td>71</td>\n",
       "      <td>Kerry</td>\n",
       "      <td>Aguilar.Sheri22@att.com</td>\n",
       "    </tr>\n",
       "    <tr>\n",
       "      <th>...</th>\n",
       "      <td>...</td>\n",
       "      <td>...</td>\n",
       "      <td>...</td>\n",
       "      <td>...</td>\n",
       "      <td>...</td>\n",
       "      <td>...</td>\n",
       "    </tr>\n",
       "    <tr>\n",
       "      <th>339</th>\n",
       "      <td>1340</td>\n",
       "      <td>Amanda</td>\n",
       "      <td>Miller</td>\n",
       "      <td>18</td>\n",
       "      <td>Limerick</td>\n",
       "      <td>Amanda.M@comcast.net</td>\n",
       "    </tr>\n",
       "    <tr>\n",
       "      <th>271</th>\n",
       "      <td>1272</td>\n",
       "      <td>Carolyn</td>\n",
       "      <td>Patterson</td>\n",
       "      <td>18</td>\n",
       "      <td>Limerick</td>\n",
       "      <td>Patterson.Carolyn@hotmail.com</td>\n",
       "    </tr>\n",
       "    <tr>\n",
       "      <th>59</th>\n",
       "      <td>1060</td>\n",
       "      <td>Amy</td>\n",
       "      <td>Farmer</td>\n",
       "      <td>8</td>\n",
       "      <td>Kerry</td>\n",
       "      <td>Farmer.Amy@verizon.com</td>\n",
       "    </tr>\n",
       "    <tr>\n",
       "      <th>164</th>\n",
       "      <td>1165</td>\n",
       "      <td>Christopher</td>\n",
       "      <td>Ramsey</td>\n",
       "      <td>6</td>\n",
       "      <td>Waterford</td>\n",
       "      <td>Ramsey_Christopher@hotmail.com</td>\n",
       "    </tr>\n",
       "    <tr>\n",
       "      <th>102</th>\n",
       "      <td>1103</td>\n",
       "      <td>Andrew</td>\n",
       "      <td>Craig</td>\n",
       "      <td>6</td>\n",
       "      <td>Dublin</td>\n",
       "      <td>Andrew.C74@yahoo.com</td>\n",
       "    </tr>\n",
       "  </tbody>\n",
       "</table>\n",
       "<p>406 rows × 6 columns</p>\n",
       "</div>"
      ],
      "text/plain": [
       "       id   first_name  last_name  age       city   \n",
       "70   1071        David     Gibson  160     Dublin  \\\n",
       "30   1031      Jessica  Hendricks  150     Dublin   \n",
       "0    1001       Samuel     Zavala  139     Dublin   \n",
       "363  1364        Penny   Cummings   75     Galway   \n",
       "8    1009        Sheri    Aguilar   71      Kerry   \n",
       "..    ...          ...        ...  ...        ...   \n",
       "339  1340       Amanda     Miller   18   Limerick   \n",
       "271  1272      Carolyn  Patterson   18   Limerick   \n",
       "59   1060          Amy     Farmer    8      Kerry   \n",
       "164  1165  Christopher     Ramsey    6  Waterford   \n",
       "102  1103       Andrew      Craig    6     Dublin   \n",
       "\n",
       "                              email  \n",
       "70          DavidGibson@xfinity.com  \n",
       "30          Jessica.H85@xfinity.com  \n",
       "0       Zavala_Samuel46@xfinity.com  \n",
       "363              PCummings@zoho.com  \n",
       "8           Aguilar.Sheri22@att.com  \n",
       "..                              ...  \n",
       "339            Amanda.M@comcast.net  \n",
       "271   Patterson.Carolyn@hotmail.com  \n",
       "59           Farmer.Amy@verizon.com  \n",
       "164  Ramsey_Christopher@hotmail.com  \n",
       "102            Andrew.C74@yahoo.com  \n",
       "\n",
       "[406 rows x 6 columns]"
      ]
     },
     "execution_count": 54,
     "metadata": {},
     "output_type": "execute_result"
    }
   ],
   "source": [
    "hd_customer.sort_values(by = 'age', ascending=False)"
   ]
  },
  {
   "cell_type": "code",
   "execution_count": 55,
   "id": "644c6292",
   "metadata": {},
   "outputs": [
    {
     "data": {
      "text/plain": [
       "count    406.000000\n",
       "mean      29.354680\n",
       "std       14.347274\n",
       "min        6.000000\n",
       "25%       22.000000\n",
       "50%       26.000000\n",
       "75%       31.000000\n",
       "max      160.000000\n",
       "Name: age, dtype: float64"
      ]
     },
     "execution_count": 55,
     "metadata": {},
     "output_type": "execute_result"
    }
   ],
   "source": [
    "# Detect age abnormalities\n",
    "hd_customer['age'].describe()"
   ]
  },
  {
   "cell_type": "code",
   "execution_count": 56,
   "id": "4cc57218",
   "metadata": {},
   "outputs": [],
   "source": [
    "# Create a new dataframe without age abnormalities\n",
    "hd_customer_clean = hd_customer.loc[(hd_customer['age'] >= 18) & (hd_customer['age'] < 100) ]"
   ]
  },
  {
   "cell_type": "code",
   "execution_count": 57,
   "id": "4a22daaa",
   "metadata": {},
   "outputs": [
    {
     "data": {
      "text/html": [
       "<div>\n",
       "<style scoped>\n",
       "    .dataframe tbody tr th:only-of-type {\n",
       "        vertical-align: middle;\n",
       "    }\n",
       "\n",
       "    .dataframe tbody tr th {\n",
       "        vertical-align: top;\n",
       "    }\n",
       "\n",
       "    .dataframe thead th {\n",
       "        text-align: right;\n",
       "    }\n",
       "</style>\n",
       "<table border=\"1\" class=\"dataframe\">\n",
       "  <thead>\n",
       "    <tr style=\"text-align: right;\">\n",
       "      <th></th>\n",
       "      <th>id</th>\n",
       "      <th>age</th>\n",
       "    </tr>\n",
       "  </thead>\n",
       "  <tbody>\n",
       "    <tr>\n",
       "      <th>count</th>\n",
       "      <td>400.000000</td>\n",
       "      <td>400.000000</td>\n",
       "    </tr>\n",
       "    <tr>\n",
       "      <th>mean</th>\n",
       "      <td>1205.475000</td>\n",
       "      <td>28.622500</td>\n",
       "    </tr>\n",
       "    <tr>\n",
       "      <th>std</th>\n",
       "      <td>116.924496</td>\n",
       "      <td>9.753863</td>\n",
       "    </tr>\n",
       "    <tr>\n",
       "      <th>min</th>\n",
       "      <td>1002.000000</td>\n",
       "      <td>18.000000</td>\n",
       "    </tr>\n",
       "    <tr>\n",
       "      <th>25%</th>\n",
       "      <td>1105.750000</td>\n",
       "      <td>22.000000</td>\n",
       "    </tr>\n",
       "    <tr>\n",
       "      <th>50%</th>\n",
       "      <td>1206.500000</td>\n",
       "      <td>26.000000</td>\n",
       "    </tr>\n",
       "    <tr>\n",
       "      <th>75%</th>\n",
       "      <td>1306.250000</td>\n",
       "      <td>31.000000</td>\n",
       "    </tr>\n",
       "    <tr>\n",
       "      <th>max</th>\n",
       "      <td>1406.000000</td>\n",
       "      <td>75.000000</td>\n",
       "    </tr>\n",
       "  </tbody>\n",
       "</table>\n",
       "</div>"
      ],
      "text/plain": [
       "                id         age\n",
       "count   400.000000  400.000000\n",
       "mean   1205.475000   28.622500\n",
       "std     116.924496    9.753863\n",
       "min    1002.000000   18.000000\n",
       "25%    1105.750000   22.000000\n",
       "50%    1206.500000   26.000000\n",
       "75%    1306.250000   31.000000\n",
       "max    1406.000000   75.000000"
      ]
     },
     "execution_count": 57,
     "metadata": {},
     "output_type": "execute_result"
    }
   ],
   "source": [
    "hd_customer_clean.describe()"
   ]
  },
  {
   "cell_type": "markdown",
   "id": "dabb013e",
   "metadata": {},
   "source": [
    "### Step 2: Plotting based on cleaned data"
   ]
  },
  {
   "cell_type": "code",
   "execution_count": 58,
   "id": "51980e1b",
   "metadata": {},
   "outputs": [
    {
     "data": {
      "image/png": "[encoded data removed]",
      "text/plain": [
       "<Figure size 1000x400 with 1 Axes>"
      ]
     },
     "metadata": {},
     "output_type": "display_data"
    }
   ],
   "source": [
    "fig = plt.figure(figsize=(10,4))\n",
    "sns.set(style=\"whitegrid\")\n",
    "ax = sns.countplot(x='age',data=hd_customer_clean)\n",
    "for i in ax.containers:\n",
    "    ax.bar_label(i,fontsize=8)\n",
    "plt.xticks(fontsize=10)\n",
    "plt.title('Age Distribution of Loyalty Cardholders')\n",
    "plt.show()"
   ]
  },
  {
   "cell_type": "code",
   "execution_count": 59,
   "id": "4e44cfa5",
   "metadata": {},
   "outputs": [
    {
     "data": {
      "text/plain": [
       "<Axes: >"
      ]
     },
     "execution_count": 59,
     "metadata": {},
     "output_type": "execute_result"
    },
    {
     "data": {
      "image/png": "[encoded data removed]",
      "text/plain": [
       "<Figure size 400x400 with 1 Axes>"
      ]
     },
     "metadata": {},
     "output_type": "display_data"
    }
   ],
   "source": [
    "hd_customer_clean['age'].plot(kind='box',figsize =(4,4))"
   ]
  },
  {
   "cell_type": "markdown",
   "id": "58f76ecd",
   "metadata": {},
   "source": [
    "## Report 3: Is there relationship between the amount spend by a loyalty cardholder and their age?"
   ]
  },
  {
   "cell_type": "markdown",
   "id": "94476ea4",
   "metadata": {},
   "source": [
    "### Step 1: Join cleaned customer dataframe with hd_order"
   ]
  },
  {
   "cell_type": "code",
   "execution_count": 60,
   "id": "62264c19",
   "metadata": {},
   "outputs": [],
   "source": [
    "ord_cust = hd_customer_clean.merge(hd_order,left_on='id',right_on='cust_id',how='left')"
   ]
  },
  {
   "cell_type": "code",
   "execution_count": 61,
   "id": "ee9f959d",
   "metadata": {},
   "outputs": [
    {
     "data": {
      "text/plain": [
       "(979, 20)"
      ]
     },
     "execution_count": 61,
     "metadata": {},
     "output_type": "execute_result"
    }
   ],
   "source": [
    "# Check the merged dataframe\n",
    "ord_cust.shape"
   ]
  },
  {
   "cell_type": "code",
   "execution_count": 62,
   "id": "9a0fcf0f",
   "metadata": {
    "scrolled": true
   },
   "outputs": [
    {
     "data": {
      "text/html": [
       "<div>\n",
       "<style scoped>\n",
       "    .dataframe tbody tr th:only-of-type {\n",
       "        vertical-align: middle;\n",
       "    }\n",
       "\n",
       "    .dataframe tbody tr th {\n",
       "        vertical-align: top;\n",
       "    }\n",
       "\n",
       "    .dataframe thead th {\n",
       "        text-align: right;\n",
       "    }\n",
       "</style>\n",
       "<table border=\"1\" class=\"dataframe\">\n",
       "  <thead>\n",
       "    <tr style=\"text-align: right;\">\n",
       "      <th></th>\n",
       "      <th>id</th>\n",
       "      <th>first_name</th>\n",
       "      <th>last_name</th>\n",
       "      <th>age</th>\n",
       "      <th>city</th>\n",
       "      <th>email</th>\n",
       "      <th>order_id</th>\n",
       "      <th>order_timestamp</th>\n",
       "      <th>delivered_timestamp</th>\n",
       "      <th>driver_id</th>\n",
       "      <th>restaurant_id</th>\n",
       "      <th>cust_id</th>\n",
       "      <th>delivery_region</th>\n",
       "      <th>discount_applied</th>\n",
       "      <th>discount_code</th>\n",
       "      <th>order_total</th>\n",
       "      <th>discount_pc</th>\n",
       "      <th>status</th>\n",
       "      <th>order_month</th>\n",
       "      <th>order_year</th>\n",
       "    </tr>\n",
       "  </thead>\n",
       "  <tbody>\n",
       "    <tr>\n",
       "      <th>0</th>\n",
       "      <td>1002</td>\n",
       "      <td>Sara</td>\n",
       "      <td>Lee</td>\n",
       "      <td>33</td>\n",
       "      <td>Dublin</td>\n",
       "      <td>Sara.L@hotmail.com</td>\n",
       "      <td>100404</td>\n",
       "      <td>2022-01-12 18:16:00</td>\n",
       "      <td>2022-01-12 18:49:00</td>\n",
       "      <td>200</td>\n",
       "      <td>47</td>\n",
       "      <td>1002</td>\n",
       "      <td>Dublin</td>\n",
       "      <td>False</td>\n",
       "      <td>NaN</td>\n",
       "      <td>20.63</td>\n",
       "      <td>NaN</td>\n",
       "      <td>COMPLETED</td>\n",
       "      <td>1</td>\n",
       "      <td>2022</td>\n",
       "    </tr>\n",
       "    <tr>\n",
       "      <th>1</th>\n",
       "      <td>1002</td>\n",
       "      <td>Sara</td>\n",
       "      <td>Lee</td>\n",
       "      <td>33</td>\n",
       "      <td>Dublin</td>\n",
       "      <td>Sara.L@hotmail.com</td>\n",
       "      <td>100674</td>\n",
       "      <td>2022-08-17 17:55:00</td>\n",
       "      <td>2022-08-17 18:28:00</td>\n",
       "      <td>254</td>\n",
       "      <td>9</td>\n",
       "      <td>1002</td>\n",
       "      <td>Dublin</td>\n",
       "      <td>False</td>\n",
       "      <td>NaN</td>\n",
       "      <td>22.26</td>\n",
       "      <td>NaN</td>\n",
       "      <td>COMPLETED</td>\n",
       "      <td>8</td>\n",
       "      <td>2022</td>\n",
       "    </tr>\n",
       "    <tr>\n",
       "      <th>2</th>\n",
       "      <td>1003</td>\n",
       "      <td>Michael</td>\n",
       "      <td>Davidson</td>\n",
       "      <td>23</td>\n",
       "      <td>Dublin</td>\n",
       "      <td>MichaelDavidson82@att.com</td>\n",
       "      <td>100622</td>\n",
       "      <td>2022-07-14 21:45:00</td>\n",
       "      <td>2022-07-14 22:21:00</td>\n",
       "      <td>77</td>\n",
       "      <td>5</td>\n",
       "      <td>1003</td>\n",
       "      <td>Cork</td>\n",
       "      <td>False</td>\n",
       "      <td>NaN</td>\n",
       "      <td>28.24</td>\n",
       "      <td>NaN</td>\n",
       "      <td>COMPLETED</td>\n",
       "      <td>7</td>\n",
       "      <td>2022</td>\n",
       "    </tr>\n",
       "    <tr>\n",
       "      <th>3</th>\n",
       "      <td>1003</td>\n",
       "      <td>Michael</td>\n",
       "      <td>Davidson</td>\n",
       "      <td>23</td>\n",
       "      <td>Dublin</td>\n",
       "      <td>MichaelDavidson82@att.com</td>\n",
       "      <td>100652</td>\n",
       "      <td>2022-08-01 23:25:00</td>\n",
       "      <td>2022-08-01 23:58:00</td>\n",
       "      <td>314</td>\n",
       "      <td>107</td>\n",
       "      <td>1003</td>\n",
       "      <td>Dublin</td>\n",
       "      <td>False</td>\n",
       "      <td>NaN</td>\n",
       "      <td>9.92</td>\n",
       "      <td>NaN</td>\n",
       "      <td>COMPLETED</td>\n",
       "      <td>8</td>\n",
       "      <td>2022</td>\n",
       "    </tr>\n",
       "    <tr>\n",
       "      <th>4</th>\n",
       "      <td>1004</td>\n",
       "      <td>Willie</td>\n",
       "      <td>Sims</td>\n",
       "      <td>29</td>\n",
       "      <td>Sligo</td>\n",
       "      <td>Willie_S@yahoo.com</td>\n",
       "      <td>100857</td>\n",
       "      <td>2022-11-26 19:34:00</td>\n",
       "      <td>2022-11-26 20:08:00</td>\n",
       "      <td>177</td>\n",
       "      <td>274</td>\n",
       "      <td>1004</td>\n",
       "      <td>Galway</td>\n",
       "      <td>False</td>\n",
       "      <td>NaN</td>\n",
       "      <td>11.88</td>\n",
       "      <td>NaN</td>\n",
       "      <td>COMPLETED</td>\n",
       "      <td>11</td>\n",
       "      <td>2022</td>\n",
       "    </tr>\n",
       "  </tbody>\n",
       "</table>\n",
       "</div>"
      ],
      "text/plain": [
       "     id first_name last_name  age    city                      email   \n",
       "0  1002       Sara       Lee   33  Dublin         Sara.L@hotmail.com  \\\n",
       "1  1002       Sara       Lee   33  Dublin         Sara.L@hotmail.com   \n",
       "2  1003    Michael  Davidson   23  Dublin  MichaelDavidson82@att.com   \n",
       "3  1003    Michael  Davidson   23  Dublin  MichaelDavidson82@att.com   \n",
       "4  1004     Willie      Sims   29   Sligo         Willie_S@yahoo.com   \n",
       "\n",
       "   order_id     order_timestamp delivered_timestamp  driver_id  restaurant_id   \n",
       "0    100404 2022-01-12 18:16:00 2022-01-12 18:49:00        200             47  \\\n",
       "1    100674 2022-08-17 17:55:00 2022-08-17 18:28:00        254              9   \n",
       "2    100622 2022-07-14 21:45:00 2022-07-14 22:21:00         77              5   \n",
       "3    100652 2022-08-01 23:25:00 2022-08-01 23:58:00        314            107   \n",
       "4    100857 2022-11-26 19:34:00 2022-11-26 20:08:00        177            274   \n",
       "\n",
       "   cust_id delivery_region  discount_applied discount_code  order_total   \n",
       "0     1002          Dublin             False           NaN        20.63  \\\n",
       "1     1002          Dublin             False           NaN        22.26   \n",
       "2     1003            Cork             False           NaN        28.24   \n",
       "3     1003          Dublin             False           NaN         9.92   \n",
       "4     1004          Galway             False           NaN        11.88   \n",
       "\n",
       "   discount_pc     status  order_month  order_year  \n",
       "0          NaN  COMPLETED            1        2022  \n",
       "1          NaN  COMPLETED            8        2022  \n",
       "2          NaN  COMPLETED            7        2022  \n",
       "3          NaN  COMPLETED            8        2022  \n",
       "4          NaN  COMPLETED           11        2022  "
      ]
     },
     "execution_count": 62,
     "metadata": {},
     "output_type": "execute_result"
    }
   ],
   "source": [
    "ord_cust.head()"
   ]
  },
  {
   "cell_type": "code",
   "execution_count": 64,
   "id": "ef8332da",
   "metadata": {},
   "outputs": [
    {
     "data": {
      "text/plain": [
       "889"
      ]
     },
     "execution_count": 64,
     "metadata": {},
     "output_type": "execute_result"
    }
   ],
   "source": [
    "ord_cust['discount_pc'].isnull().sum()"
   ]
  },
  {
   "cell_type": "code",
   "execution_count": 65,
   "id": "4aad4f7f",
   "metadata": {},
   "outputs": [],
   "source": [
    "# Fill the null value of discount_pc with 0\n",
    "ord_cust['discount_pc'] = ord_cust['discount_pc'].fillna(0)"
   ]
  },
  {
   "cell_type": "code",
   "execution_count": 66,
   "id": "d95ac4ec",
   "metadata": {},
   "outputs": [
    {
     "data": {
      "text/plain": [
       "0"
      ]
     },
     "execution_count": 66,
     "metadata": {},
     "output_type": "execute_result"
    }
   ],
   "source": [
    "ord_cust['discount_pc'].isnull().sum()"
   ]
  },
  {
   "cell_type": "markdown",
   "id": "2b73c1f4",
   "metadata": {},
   "source": [
    "### Step 2: Create a pivot column for 'status' as 'status_piv' , set completed = 1, cancelled = 0"
   ]
  },
  {
   "cell_type": "code",
   "execution_count": 67,
   "id": "ad17581d",
   "metadata": {},
   "outputs": [],
   "source": [
    "ord_cust['status_piv'] = np.where(ord_cust['status']== 'COMPLETED', 1, 0)"
   ]
  },
  {
   "cell_type": "markdown",
   "id": "81d9aa2a",
   "metadata": {},
   "source": [
    "### Step 3: Calculate actual spending considering 'discount_pc' and'status',when'cancelled' refund the payment,thus 'act_spend'== 0"
   ]
  },
  {
   "cell_type": "code",
   "execution_count": 68,
   "id": "18ce707c",
   "metadata": {},
   "outputs": [],
   "source": [
    "ord_cust['act_spend'] = ord_cust['order_total'] * (1-(ord_cust['discount_pc']/100)) * ord_cust['status_piv']"
   ]
  },
  {
   "cell_type": "code",
   "execution_count": 69,
   "id": "3b1c0032",
   "metadata": {},
   "outputs": [
    {
     "data": {
      "text/html": [
       "<div>\n",
       "<style scoped>\n",
       "    .dataframe tbody tr th:only-of-type {\n",
       "        vertical-align: middle;\n",
       "    }\n",
       "\n",
       "    .dataframe tbody tr th {\n",
       "        vertical-align: top;\n",
       "    }\n",
       "\n",
       "    .dataframe thead th {\n",
       "        text-align: right;\n",
       "    }\n",
       "</style>\n",
       "<table border=\"1\" class=\"dataframe\">\n",
       "  <thead>\n",
       "    <tr style=\"text-align: right;\">\n",
       "      <th></th>\n",
       "      <th>id</th>\n",
       "      <th>first_name</th>\n",
       "      <th>last_name</th>\n",
       "      <th>age</th>\n",
       "      <th>city</th>\n",
       "      <th>email</th>\n",
       "      <th>order_id</th>\n",
       "      <th>order_timestamp</th>\n",
       "      <th>delivered_timestamp</th>\n",
       "      <th>driver_id</th>\n",
       "      <th>...</th>\n",
       "      <th>delivery_region</th>\n",
       "      <th>discount_applied</th>\n",
       "      <th>discount_code</th>\n",
       "      <th>order_total</th>\n",
       "      <th>discount_pc</th>\n",
       "      <th>status</th>\n",
       "      <th>order_month</th>\n",
       "      <th>order_year</th>\n",
       "      <th>status_piv</th>\n",
       "      <th>act_spend</th>\n",
       "    </tr>\n",
       "  </thead>\n",
       "  <tbody>\n",
       "    <tr>\n",
       "      <th>0</th>\n",
       "      <td>1002</td>\n",
       "      <td>Sara</td>\n",
       "      <td>Lee</td>\n",
       "      <td>33</td>\n",
       "      <td>Dublin</td>\n",
       "      <td>Sara.L@hotmail.com</td>\n",
       "      <td>100404</td>\n",
       "      <td>2022-01-12 18:16:00</td>\n",
       "      <td>2022-01-12 18:49:00</td>\n",
       "      <td>200</td>\n",
       "      <td>...</td>\n",
       "      <td>Dublin</td>\n",
       "      <td>False</td>\n",
       "      <td>NaN</td>\n",
       "      <td>20.63</td>\n",
       "      <td>0.0</td>\n",
       "      <td>COMPLETED</td>\n",
       "      <td>1</td>\n",
       "      <td>2022</td>\n",
       "      <td>1</td>\n",
       "      <td>20.63</td>\n",
       "    </tr>\n",
       "    <tr>\n",
       "      <th>1</th>\n",
       "      <td>1002</td>\n",
       "      <td>Sara</td>\n",
       "      <td>Lee</td>\n",
       "      <td>33</td>\n",
       "      <td>Dublin</td>\n",
       "      <td>Sara.L@hotmail.com</td>\n",
       "      <td>100674</td>\n",
       "      <td>2022-08-17 17:55:00</td>\n",
       "      <td>2022-08-17 18:28:00</td>\n",
       "      <td>254</td>\n",
       "      <td>...</td>\n",
       "      <td>Dublin</td>\n",
       "      <td>False</td>\n",
       "      <td>NaN</td>\n",
       "      <td>22.26</td>\n",
       "      <td>0.0</td>\n",
       "      <td>COMPLETED</td>\n",
       "      <td>8</td>\n",
       "      <td>2022</td>\n",
       "      <td>1</td>\n",
       "      <td>22.26</td>\n",
       "    </tr>\n",
       "    <tr>\n",
       "      <th>2</th>\n",
       "      <td>1003</td>\n",
       "      <td>Michael</td>\n",
       "      <td>Davidson</td>\n",
       "      <td>23</td>\n",
       "      <td>Dublin</td>\n",
       "      <td>MichaelDavidson82@att.com</td>\n",
       "      <td>100622</td>\n",
       "      <td>2022-07-14 21:45:00</td>\n",
       "      <td>2022-07-14 22:21:00</td>\n",
       "      <td>77</td>\n",
       "      <td>...</td>\n",
       "      <td>Cork</td>\n",
       "      <td>False</td>\n",
       "      <td>NaN</td>\n",
       "      <td>28.24</td>\n",
       "      <td>0.0</td>\n",
       "      <td>COMPLETED</td>\n",
       "      <td>7</td>\n",
       "      <td>2022</td>\n",
       "      <td>1</td>\n",
       "      <td>28.24</td>\n",
       "    </tr>\n",
       "    <tr>\n",
       "      <th>3</th>\n",
       "      <td>1003</td>\n",
       "      <td>Michael</td>\n",
       "      <td>Davidson</td>\n",
       "      <td>23</td>\n",
       "      <td>Dublin</td>\n",
       "      <td>MichaelDavidson82@att.com</td>\n",
       "      <td>100652</td>\n",
       "      <td>2022-08-01 23:25:00</td>\n",
       "      <td>2022-08-01 23:58:00</td>\n",
       "      <td>314</td>\n",
       "      <td>...</td>\n",
       "      <td>Dublin</td>\n",
       "      <td>False</td>\n",
       "      <td>NaN</td>\n",
       "      <td>9.92</td>\n",
       "      <td>0.0</td>\n",
       "      <td>COMPLETED</td>\n",
       "      <td>8</td>\n",
       "      <td>2022</td>\n",
       "      <td>1</td>\n",
       "      <td>9.92</td>\n",
       "    </tr>\n",
       "    <tr>\n",
       "      <th>4</th>\n",
       "      <td>1004</td>\n",
       "      <td>Willie</td>\n",
       "      <td>Sims</td>\n",
       "      <td>29</td>\n",
       "      <td>Sligo</td>\n",
       "      <td>Willie_S@yahoo.com</td>\n",
       "      <td>100857</td>\n",
       "      <td>2022-11-26 19:34:00</td>\n",
       "      <td>2022-11-26 20:08:00</td>\n",
       "      <td>177</td>\n",
       "      <td>...</td>\n",
       "      <td>Galway</td>\n",
       "      <td>False</td>\n",
       "      <td>NaN</td>\n",
       "      <td>11.88</td>\n",
       "      <td>0.0</td>\n",
       "      <td>COMPLETED</td>\n",
       "      <td>11</td>\n",
       "      <td>2022</td>\n",
       "      <td>1</td>\n",
       "      <td>11.88</td>\n",
       "    </tr>\n",
       "  </tbody>\n",
       "</table>\n",
       "<p>5 rows × 22 columns</p>\n",
       "</div>"
      ],
      "text/plain": [
       "     id first_name last_name  age    city                      email   \n",
       "0  1002       Sara       Lee   33  Dublin         Sara.L@hotmail.com  \\\n",
       "1  1002       Sara       Lee   33  Dublin         Sara.L@hotmail.com   \n",
       "2  1003    Michael  Davidson   23  Dublin  MichaelDavidson82@att.com   \n",
       "3  1003    Michael  Davidson   23  Dublin  MichaelDavidson82@att.com   \n",
       "4  1004     Willie      Sims   29   Sligo         Willie_S@yahoo.com   \n",
       "\n",
       "   order_id     order_timestamp delivered_timestamp  driver_id  ...   \n",
       "0    100404 2022-01-12 18:16:00 2022-01-12 18:49:00        200  ...  \\\n",
       "1    100674 2022-08-17 17:55:00 2022-08-17 18:28:00        254  ...   \n",
       "2    100622 2022-07-14 21:45:00 2022-07-14 22:21:00         77  ...   \n",
       "3    100652 2022-08-01 23:25:00 2022-08-01 23:58:00        314  ...   \n",
       "4    100857 2022-11-26 19:34:00 2022-11-26 20:08:00        177  ...   \n",
       "\n",
       "   delivery_region  discount_applied discount_code  order_total discount_pc   \n",
       "0           Dublin             False           NaN        20.63         0.0  \\\n",
       "1           Dublin             False           NaN        22.26         0.0   \n",
       "2             Cork             False           NaN        28.24         0.0   \n",
       "3           Dublin             False           NaN         9.92         0.0   \n",
       "4           Galway             False           NaN        11.88         0.0   \n",
       "\n",
       "      status  order_month order_year  status_piv  act_spend  \n",
       "0  COMPLETED            1       2022           1      20.63  \n",
       "1  COMPLETED            8       2022           1      22.26  \n",
       "2  COMPLETED            7       2022           1      28.24  \n",
       "3  COMPLETED            8       2022           1       9.92  \n",
       "4  COMPLETED           11       2022           1      11.88  \n",
       "\n",
       "[5 rows x 22 columns]"
      ]
     },
     "execution_count": 69,
     "metadata": {},
     "output_type": "execute_result"
    }
   ],
   "source": [
    "ord_cust.head()"
   ]
  },
  {
   "cell_type": "markdown",
   "id": "6ee9a1a6",
   "metadata": {},
   "source": [
    "### Step 4: Generate a dataframe with customer id, age, discount_applied and total_spend / customer id"
   ]
  },
  {
   "cell_type": "code",
   "execution_count": 70,
   "id": "eb830ee2",
   "metadata": {},
   "outputs": [],
   "source": [
    "age_spend = ord_cust.groupby(['id','age','discount_applied'])['act_spend'].sum().to_frame('total_spend').reset_index()"
   ]
  },
  {
   "cell_type": "code",
   "execution_count": 71,
   "id": "5d03d466",
   "metadata": {},
   "outputs": [
    {
     "data": {
      "text/html": [
       "<div>\n",
       "<style scoped>\n",
       "    .dataframe tbody tr th:only-of-type {\n",
       "        vertical-align: middle;\n",
       "    }\n",
       "\n",
       "    .dataframe tbody tr th {\n",
       "        vertical-align: top;\n",
       "    }\n",
       "\n",
       "    .dataframe thead th {\n",
       "        text-align: right;\n",
       "    }\n",
       "</style>\n",
       "<table border=\"1\" class=\"dataframe\">\n",
       "  <thead>\n",
       "    <tr style=\"text-align: right;\">\n",
       "      <th></th>\n",
       "      <th>id</th>\n",
       "      <th>age</th>\n",
       "      <th>discount_applied</th>\n",
       "      <th>total_spend</th>\n",
       "    </tr>\n",
       "  </thead>\n",
       "  <tbody>\n",
       "    <tr>\n",
       "      <th>0</th>\n",
       "      <td>1002</td>\n",
       "      <td>33</td>\n",
       "      <td>False</td>\n",
       "      <td>42.890</td>\n",
       "    </tr>\n",
       "    <tr>\n",
       "      <th>1</th>\n",
       "      <td>1003</td>\n",
       "      <td>23</td>\n",
       "      <td>False</td>\n",
       "      <td>38.160</td>\n",
       "    </tr>\n",
       "    <tr>\n",
       "      <th>2</th>\n",
       "      <td>1004</td>\n",
       "      <td>29</td>\n",
       "      <td>False</td>\n",
       "      <td>49.090</td>\n",
       "    </tr>\n",
       "    <tr>\n",
       "      <th>3</th>\n",
       "      <td>1005</td>\n",
       "      <td>22</td>\n",
       "      <td>False</td>\n",
       "      <td>66.980</td>\n",
       "    </tr>\n",
       "    <tr>\n",
       "      <th>4</th>\n",
       "      <td>1006</td>\n",
       "      <td>26</td>\n",
       "      <td>False</td>\n",
       "      <td>40.380</td>\n",
       "    </tr>\n",
       "    <tr>\n",
       "      <th>5</th>\n",
       "      <td>1007</td>\n",
       "      <td>58</td>\n",
       "      <td>False</td>\n",
       "      <td>55.610</td>\n",
       "    </tr>\n",
       "    <tr>\n",
       "      <th>6</th>\n",
       "      <td>1008</td>\n",
       "      <td>49</td>\n",
       "      <td>False</td>\n",
       "      <td>44.880</td>\n",
       "    </tr>\n",
       "    <tr>\n",
       "      <th>7</th>\n",
       "      <td>1009</td>\n",
       "      <td>71</td>\n",
       "      <td>False</td>\n",
       "      <td>149.000</td>\n",
       "    </tr>\n",
       "    <tr>\n",
       "      <th>8</th>\n",
       "      <td>1010</td>\n",
       "      <td>66</td>\n",
       "      <td>False</td>\n",
       "      <td>69.870</td>\n",
       "    </tr>\n",
       "    <tr>\n",
       "      <th>9</th>\n",
       "      <td>1011</td>\n",
       "      <td>67</td>\n",
       "      <td>False</td>\n",
       "      <td>47.490</td>\n",
       "    </tr>\n",
       "    <tr>\n",
       "      <th>10</th>\n",
       "      <td>1011</td>\n",
       "      <td>67</td>\n",
       "      <td>True</td>\n",
       "      <td>52.546</td>\n",
       "    </tr>\n",
       "    <tr>\n",
       "      <th>11</th>\n",
       "      <td>1012</td>\n",
       "      <td>68</td>\n",
       "      <td>False</td>\n",
       "      <td>80.860</td>\n",
       "    </tr>\n",
       "    <tr>\n",
       "      <th>12</th>\n",
       "      <td>1012</td>\n",
       "      <td>68</td>\n",
       "      <td>True</td>\n",
       "      <td>18.064</td>\n",
       "    </tr>\n",
       "    <tr>\n",
       "      <th>13</th>\n",
       "      <td>1013</td>\n",
       "      <td>59</td>\n",
       "      <td>False</td>\n",
       "      <td>151.080</td>\n",
       "    </tr>\n",
       "    <tr>\n",
       "      <th>14</th>\n",
       "      <td>1014</td>\n",
       "      <td>59</td>\n",
       "      <td>False</td>\n",
       "      <td>95.650</td>\n",
       "    </tr>\n",
       "    <tr>\n",
       "      <th>15</th>\n",
       "      <td>1014</td>\n",
       "      <td>59</td>\n",
       "      <td>True</td>\n",
       "      <td>13.456</td>\n",
       "    </tr>\n",
       "    <tr>\n",
       "      <th>16</th>\n",
       "      <td>1015</td>\n",
       "      <td>58</td>\n",
       "      <td>False</td>\n",
       "      <td>104.020</td>\n",
       "    </tr>\n",
       "    <tr>\n",
       "      <th>17</th>\n",
       "      <td>1016</td>\n",
       "      <td>24</td>\n",
       "      <td>False</td>\n",
       "      <td>89.830</td>\n",
       "    </tr>\n",
       "    <tr>\n",
       "      <th>18</th>\n",
       "      <td>1016</td>\n",
       "      <td>24</td>\n",
       "      <td>True</td>\n",
       "      <td>55.568</td>\n",
       "    </tr>\n",
       "    <tr>\n",
       "      <th>19</th>\n",
       "      <td>1017</td>\n",
       "      <td>23</td>\n",
       "      <td>False</td>\n",
       "      <td>214.870</td>\n",
       "    </tr>\n",
       "  </tbody>\n",
       "</table>\n",
       "</div>"
      ],
      "text/plain": [
       "      id  age  discount_applied  total_spend\n",
       "0   1002   33             False       42.890\n",
       "1   1003   23             False       38.160\n",
       "2   1004   29             False       49.090\n",
       "3   1005   22             False       66.980\n",
       "4   1006   26             False       40.380\n",
       "5   1007   58             False       55.610\n",
       "6   1008   49             False       44.880\n",
       "7   1009   71             False      149.000\n",
       "8   1010   66             False       69.870\n",
       "9   1011   67             False       47.490\n",
       "10  1011   67              True       52.546\n",
       "11  1012   68             False       80.860\n",
       "12  1012   68              True       18.064\n",
       "13  1013   59             False      151.080\n",
       "14  1014   59             False       95.650\n",
       "15  1014   59              True       13.456\n",
       "16  1015   58             False      104.020\n",
       "17  1016   24             False       89.830\n",
       "18  1016   24              True       55.568\n",
       "19  1017   23             False      214.870"
      ]
     },
     "execution_count": 71,
     "metadata": {},
     "output_type": "execute_result"
    }
   ],
   "source": [
    "age_spend.head(20)"
   ]
  },
  {
   "cell_type": "markdown",
   "id": "ed7f117c",
   "metadata": {},
   "source": [
    "### Step 5: Calucate correlation between age and spending per loyalty cardholder"
   ]
  },
  {
   "cell_type": "code",
   "execution_count": 72,
   "id": "336988b9",
   "metadata": {},
   "outputs": [],
   "source": [
    "age_spend_corr = age_spend[['age','total_spend']].corr(method = 'pearson')"
   ]
  },
  {
   "cell_type": "code",
   "execution_count": 73,
   "id": "6a34edd4",
   "metadata": {},
   "outputs": [
    {
     "data": {
      "text/html": [
       "<div>\n",
       "<style scoped>\n",
       "    .dataframe tbody tr th:only-of-type {\n",
       "        vertical-align: middle;\n",
       "    }\n",
       "\n",
       "    .dataframe tbody tr th {\n",
       "        vertical-align: top;\n",
       "    }\n",
       "\n",
       "    .dataframe thead th {\n",
       "        text-align: right;\n",
       "    }\n",
       "</style>\n",
       "<table border=\"1\" class=\"dataframe\">\n",
       "  <thead>\n",
       "    <tr style=\"text-align: right;\">\n",
       "      <th></th>\n",
       "      <th>age</th>\n",
       "      <th>total_spend</th>\n",
       "    </tr>\n",
       "  </thead>\n",
       "  <tbody>\n",
       "    <tr>\n",
       "      <th>age</th>\n",
       "      <td>1.000000</td>\n",
       "      <td>0.032843</td>\n",
       "    </tr>\n",
       "    <tr>\n",
       "      <th>total_spend</th>\n",
       "      <td>0.032843</td>\n",
       "      <td>1.000000</td>\n",
       "    </tr>\n",
       "  </tbody>\n",
       "</table>\n",
       "</div>"
      ],
      "text/plain": [
       "                  age  total_spend\n",
       "age          1.000000     0.032843\n",
       "total_spend  0.032843     1.000000"
      ]
     },
     "execution_count": 73,
     "metadata": {},
     "output_type": "execute_result"
    }
   ],
   "source": [
    "age_spend_corr"
   ]
  },
  {
   "cell_type": "markdown",
   "id": "ed7f1df8",
   "metadata": {},
   "source": [
    "### Step 6: Scatter plot to find out correlation of age vs. spending per loyalty cardholder"
   ]
  },
  {
   "cell_type": "code",
   "execution_count": 74,
   "id": "1d8301ad",
   "metadata": {},
   "outputs": [
    {
     "data": {
      "image/png": "[encoded data removed]",
      "text/plain": [
       "<Figure size 588.972x500 with 1 Axes>"
      ]
     },
     "metadata": {},
     "output_type": "display_data"
    }
   ],
   "source": [
    "sns.relplot(x='age',y='act_spend',data=ord_cust,kind='scatter',size='act_spend',hue='act_spend')\n",
    "plt.title('Age vs. Spending for Each Loyalty Cardholder',y=1.05)\n",
    "plt.show()"
   ]
  },
  {
   "cell_type": "markdown",
   "id": "244db1c2",
   "metadata": {},
   "source": [
    "## Report 4: Is there a relationship between the amount of a payment,the age of a person and whether or not they used discount codes"
   ]
  },
  {
   "cell_type": "code",
   "execution_count": 75,
   "id": "73ed03d1",
   "metadata": {},
   "outputs": [
    {
     "data": {
      "image/png": "[encoded data removed]",
      "text/plain": [
       "<Figure size 1088.97x500 with 2 Axes>"
      ]
     },
     "metadata": {},
     "output_type": "display_data"
    }
   ],
   "source": [
    "g = sns.relplot(x='age',y='act_spend',data=ord_cust,kind='scatter',size='act_spend',col='discount_applied',hue='act_spend')\n",
    "g.fig.suptitle('Age vs. Spending with Discount Code and without Discount Code',y=1.05)\n",
    "plt.show()"
   ]
  },
  {
   "cell_type": "markdown",
   "id": "1997c36a",
   "metadata": {},
   "source": [
    "## Report 5: Compare the sales for 2022 across all regions"
   ]
  },
  {
   "cell_type": "markdown",
   "id": "9c8bf73b",
   "metadata": {},
   "source": [
    "### Step 1: calculate sales per region in 2022"
   ]
  },
  {
   "cell_type": "code",
   "execution_count": 76,
   "id": "2ac0e220",
   "metadata": {
    "scrolled": true
   },
   "outputs": [],
   "source": [
    "reg_sales_2022 = hd_order[hd_order['order_year']== 2022]\\\n",
    "                   .groupby('delivery_region')['order_total']\\\n",
    "                .sum().sort_values().to_frame('total_amount').reset_index()"
   ]
  },
  {
   "cell_type": "code",
   "execution_count": 77,
   "id": "6e2fcdd6",
   "metadata": {},
   "outputs": [
    {
     "data": {
      "text/html": [
       "<div>\n",
       "<style scoped>\n",
       "    .dataframe tbody tr th:only-of-type {\n",
       "        vertical-align: middle;\n",
       "    }\n",
       "\n",
       "    .dataframe tbody tr th {\n",
       "        vertical-align: top;\n",
       "    }\n",
       "\n",
       "    .dataframe thead th {\n",
       "        text-align: right;\n",
       "    }\n",
       "</style>\n",
       "<table border=\"1\" class=\"dataframe\">\n",
       "  <thead>\n",
       "    <tr style=\"text-align: right;\">\n",
       "      <th></th>\n",
       "      <th>delivery_region</th>\n",
       "      <th>total_amount</th>\n",
       "    </tr>\n",
       "  </thead>\n",
       "  <tbody>\n",
       "    <tr>\n",
       "      <th>0</th>\n",
       "      <td>Leitrim</td>\n",
       "      <td>493.89</td>\n",
       "    </tr>\n",
       "    <tr>\n",
       "      <th>1</th>\n",
       "      <td>Sligo</td>\n",
       "      <td>914.41</td>\n",
       "    </tr>\n",
       "    <tr>\n",
       "      <th>2</th>\n",
       "      <td>Kerry</td>\n",
       "      <td>1399.64</td>\n",
       "    </tr>\n",
       "    <tr>\n",
       "      <th>3</th>\n",
       "      <td>Galway</td>\n",
       "      <td>2752.46</td>\n",
       "    </tr>\n",
       "    <tr>\n",
       "      <th>4</th>\n",
       "      <td>Cork</td>\n",
       "      <td>3540.83</td>\n",
       "    </tr>\n",
       "    <tr>\n",
       "      <th>5</th>\n",
       "      <td>Dublin</td>\n",
       "      <td>7192.81</td>\n",
       "    </tr>\n",
       "  </tbody>\n",
       "</table>\n",
       "</div>"
      ],
      "text/plain": [
       "  delivery_region  total_amount\n",
       "0         Leitrim        493.89\n",
       "1           Sligo        914.41\n",
       "2           Kerry       1399.64\n",
       "3          Galway       2752.46\n",
       "4            Cork       3540.83\n",
       "5          Dublin       7192.81"
      ]
     },
     "execution_count": 77,
     "metadata": {},
     "output_type": "execute_result"
    }
   ],
   "source": [
    "reg_sales_2022.head(6)"
   ]
  },
  {
   "cell_type": "markdown",
   "id": "176bd4db",
   "metadata": {},
   "source": [
    "### Step 2: Bar plot sales per region in 2022"
   ]
  },
  {
   "cell_type": "code",
   "execution_count": 78,
   "id": "574d62f1",
   "metadata": {},
   "outputs": [
    {
     "data": {
      "image/png": "[encoded data removed]",
      "text/plain": [
       "<Figure size 640x480 with 1 Axes>"
      ]
     },
     "metadata": {},
     "output_type": "display_data"
    }
   ],
   "source": [
    "r = sns.barplot(x = 'delivery_region', y='total_amount',data=reg_sales_2022)\n",
    "r.set(xlabel='Region', ylabel='Total_Amount(in euro)')\n",
    "plt.title('Sales per Region in 2022')        \n",
    "plt.show()"
   ]
  },
  {
   "cell_type": "markdown",
   "id": "36d4990d",
   "metadata": {},
   "source": [
    "## Question 6: Find out top 10 highest spending customers in 2022 with their ID, name and email address"
   ]
  },
  {
   "cell_type": "code",
   "execution_count": 79,
   "id": "8efe985b",
   "metadata": {},
   "outputs": [],
   "source": [
    "top_10_cust_2022 = ord_cust[ord_cust['order_year']== 2022]\\\n",
    "                                 .groupby(['id','first_name','last_name','email'])\\\n",
    "                                 ['act_spend'].sum().sort_values(ascending=False)\\\n",
    "                                  .nlargest(10).to_frame('total_spending').reset_index()"
   ]
  },
  {
   "cell_type": "code",
   "execution_count": 80,
   "id": "296bbd11",
   "metadata": {},
   "outputs": [
    {
     "data": {
      "text/html": [
       "<div>\n",
       "<style scoped>\n",
       "    .dataframe tbody tr th:only-of-type {\n",
       "        vertical-align: middle;\n",
       "    }\n",
       "\n",
       "    .dataframe tbody tr th {\n",
       "        vertical-align: top;\n",
       "    }\n",
       "\n",
       "    .dataframe thead th {\n",
       "        text-align: right;\n",
       "    }\n",
       "</style>\n",
       "<table border=\"1\" class=\"dataframe\">\n",
       "  <thead>\n",
       "    <tr style=\"text-align: right;\">\n",
       "      <th></th>\n",
       "      <th>id</th>\n",
       "      <th>first_name</th>\n",
       "      <th>last_name</th>\n",
       "      <th>email</th>\n",
       "      <th>total_spending</th>\n",
       "    </tr>\n",
       "  </thead>\n",
       "  <tbody>\n",
       "    <tr>\n",
       "      <th>0</th>\n",
       "      <td>1027</td>\n",
       "      <td>Jason</td>\n",
       "      <td>Dudley</td>\n",
       "      <td>Jason_D@zoho.com</td>\n",
       "      <td>146.492</td>\n",
       "    </tr>\n",
       "    <tr>\n",
       "      <th>1</th>\n",
       "      <td>1126</td>\n",
       "      <td>Deanna</td>\n",
       "      <td>Knight</td>\n",
       "      <td>DeannaKnight@protonmail.com</td>\n",
       "      <td>146.300</td>\n",
       "    </tr>\n",
       "    <tr>\n",
       "      <th>2</th>\n",
       "      <td>1009</td>\n",
       "      <td>Sheri</td>\n",
       "      <td>Aguilar</td>\n",
       "      <td>Aguilar.Sheri22@att.com</td>\n",
       "      <td>131.640</td>\n",
       "    </tr>\n",
       "    <tr>\n",
       "      <th>3</th>\n",
       "      <td>1023</td>\n",
       "      <td>Gabrielle</td>\n",
       "      <td>Morgan</td>\n",
       "      <td>GMorgan48@mail.com</td>\n",
       "      <td>118.300</td>\n",
       "    </tr>\n",
       "    <tr>\n",
       "      <th>4</th>\n",
       "      <td>1021</td>\n",
       "      <td>Joshua</td>\n",
       "      <td>Kidd</td>\n",
       "      <td>Joshua_K@att.com</td>\n",
       "      <td>115.130</td>\n",
       "    </tr>\n",
       "    <tr>\n",
       "      <th>5</th>\n",
       "      <td>1018</td>\n",
       "      <td>David</td>\n",
       "      <td>Snyder</td>\n",
       "      <td>David.S@hotmail.com</td>\n",
       "      <td>105.220</td>\n",
       "    </tr>\n",
       "    <tr>\n",
       "      <th>6</th>\n",
       "      <td>1227</td>\n",
       "      <td>Andrew</td>\n",
       "      <td>Cantu</td>\n",
       "      <td>Andrew_Cantu@yandex.com</td>\n",
       "      <td>103.940</td>\n",
       "    </tr>\n",
       "    <tr>\n",
       "      <th>7</th>\n",
       "      <td>1028</td>\n",
       "      <td>David</td>\n",
       "      <td>Murphy</td>\n",
       "      <td>Murphy.David@mail.com</td>\n",
       "      <td>102.080</td>\n",
       "    </tr>\n",
       "    <tr>\n",
       "      <th>8</th>\n",
       "      <td>1059</td>\n",
       "      <td>Brent</td>\n",
       "      <td>Harrell</td>\n",
       "      <td>Harrell.Brent13@protonmail.com</td>\n",
       "      <td>99.380</td>\n",
       "    </tr>\n",
       "    <tr>\n",
       "      <th>9</th>\n",
       "      <td>1029</td>\n",
       "      <td>Meagan</td>\n",
       "      <td>Gonzalez</td>\n",
       "      <td>Gonzalez_Meagan43@mail.com</td>\n",
       "      <td>96.176</td>\n",
       "    </tr>\n",
       "  </tbody>\n",
       "</table>\n",
       "</div>"
      ],
      "text/plain": [
       "     id first_name last_name                           email  total_spending\n",
       "0  1027      Jason    Dudley                Jason_D@zoho.com         146.492\n",
       "1  1126     Deanna    Knight     DeannaKnight@protonmail.com         146.300\n",
       "2  1009      Sheri   Aguilar         Aguilar.Sheri22@att.com         131.640\n",
       "3  1023  Gabrielle    Morgan              GMorgan48@mail.com         118.300\n",
       "4  1021     Joshua      Kidd                Joshua_K@att.com         115.130\n",
       "5  1018      David    Snyder             David.S@hotmail.com         105.220\n",
       "6  1227     Andrew     Cantu         Andrew_Cantu@yandex.com         103.940\n",
       "7  1028      David    Murphy           Murphy.David@mail.com         102.080\n",
       "8  1059      Brent   Harrell  Harrell.Brent13@protonmail.com          99.380\n",
       "9  1029     Meagan  Gonzalez      Gonzalez_Meagan43@mail.com          96.176"
      ]
     },
     "execution_count": 80,
     "metadata": {},
     "output_type": "execute_result"
    }
   ],
   "source": [
    "top_10_cust_2022"
   ]
  },
  {
   "cell_type": "markdown",
   "id": "0a0317b4",
   "metadata": {},
   "source": [
    "## Question 7: Find out the top 3 restaurants (ID) in terms of sales for 2022?"
   ]
  },
  {
   "cell_type": "code",
   "execution_count": 81,
   "id": "a76285af",
   "metadata": {},
   "outputs": [],
   "source": [
    "top_3_restaurant_2022 = hd_order[hd_order['order_year']== 2022]\\\n",
    "                       .groupby('restaurant_id')['order_total'].sum()\\\n",
    "                        .sort_values(ascending=False).nlargest(3).to_frame('sales_amount').reset_index()"
   ]
  },
  {
   "cell_type": "code",
   "execution_count": 82,
   "id": "d4b82e58",
   "metadata": {},
   "outputs": [
    {
     "data": {
      "text/html": [
       "<div>\n",
       "<style scoped>\n",
       "    .dataframe tbody tr th:only-of-type {\n",
       "        vertical-align: middle;\n",
       "    }\n",
       "\n",
       "    .dataframe tbody tr th {\n",
       "        vertical-align: top;\n",
       "    }\n",
       "\n",
       "    .dataframe thead th {\n",
       "        text-align: right;\n",
       "    }\n",
       "</style>\n",
       "<table border=\"1\" class=\"dataframe\">\n",
       "  <thead>\n",
       "    <tr style=\"text-align: right;\">\n",
       "      <th></th>\n",
       "      <th>restaurant_id</th>\n",
       "      <th>sales_amount</th>\n",
       "    </tr>\n",
       "  </thead>\n",
       "  <tbody>\n",
       "    <tr>\n",
       "      <th>0</th>\n",
       "      <td>9</td>\n",
       "      <td>742.06</td>\n",
       "    </tr>\n",
       "    <tr>\n",
       "      <th>1</th>\n",
       "      <td>107</td>\n",
       "      <td>645.50</td>\n",
       "    </tr>\n",
       "    <tr>\n",
       "      <th>2</th>\n",
       "      <td>8</td>\n",
       "      <td>564.36</td>\n",
       "    </tr>\n",
       "  </tbody>\n",
       "</table>\n",
       "</div>"
      ],
      "text/plain": [
       "   restaurant_id  sales_amount\n",
       "0              9        742.06\n",
       "1            107        645.50\n",
       "2              8        564.36"
      ]
     },
     "execution_count": 82,
     "metadata": {},
     "output_type": "execute_result"
    }
   ],
   "source": [
    "top_3_restaurant_2022"
   ]
  },
  {
   "cell_type": "markdown",
   "id": "644f6509",
   "metadata": {},
   "source": [
    "## Question 8: Find all the customers who are considered non-returning(customer only one order) including their id, name and email in 2021."
   ]
  },
  {
   "cell_type": "markdown",
   "id": "df8d980c",
   "metadata": {},
   "source": [
    "### Step 1: Join hd_order and hd_customer tables (including all ages and orders made but then cancelled)"
   ]
  },
  {
   "cell_type": "code",
   "execution_count": 83,
   "id": "6eada20c",
   "metadata": {},
   "outputs": [],
   "source": [
    "ord_cust_all = hd_customer.merge(hd_order,left_on='id',right_on='cust_id',how='inner')"
   ]
  },
  {
   "cell_type": "code",
   "execution_count": 84,
   "id": "05847ad7",
   "metadata": {},
   "outputs": [
    {
     "data": {
      "text/plain": [
       "Index(['id', 'first_name', 'last_name', 'age', 'city', 'email', 'order_id',\n",
       "       'order_timestamp', 'delivered_timestamp', 'driver_id', 'restaurant_id',\n",
       "       'cust_id', 'delivery_region', 'discount_applied', 'discount_code',\n",
       "       'order_total', 'discount_pc', 'status', 'order_month', 'order_year'],\n",
       "      dtype='object')"
      ]
     },
     "execution_count": 84,
     "metadata": {},
     "output_type": "execute_result"
    }
   ],
   "source": [
    "ord_cust_all.columns"
   ]
  },
  {
   "cell_type": "markdown",
   "id": "53b8819a",
   "metadata": {},
   "source": [
    "### Step 2: Count orders in 2021 for each customer"
   ]
  },
  {
   "cell_type": "code",
   "execution_count": 85,
   "id": "2905422e",
   "metadata": {},
   "outputs": [],
   "source": [
    "order_count_2021= ord_cust_all[ord_cust_all['order_year']==2021]\\\n",
    "                          .groupby(['id','first_name','last_name','email'])['order_id'].count().to_frame('ord_count').reset_index()"
   ]
  },
  {
   "cell_type": "code",
   "execution_count": 86,
   "id": "44d56f4f",
   "metadata": {},
   "outputs": [
    {
     "data": {
      "text/html": [
       "<div>\n",
       "<style scoped>\n",
       "    .dataframe tbody tr th:only-of-type {\n",
       "        vertical-align: middle;\n",
       "    }\n",
       "\n",
       "    .dataframe tbody tr th {\n",
       "        vertical-align: top;\n",
       "    }\n",
       "\n",
       "    .dataframe thead th {\n",
       "        text-align: right;\n",
       "    }\n",
       "</style>\n",
       "<table border=\"1\" class=\"dataframe\">\n",
       "  <thead>\n",
       "    <tr style=\"text-align: right;\">\n",
       "      <th></th>\n",
       "      <th>id</th>\n",
       "      <th>first_name</th>\n",
       "      <th>last_name</th>\n",
       "      <th>email</th>\n",
       "      <th>ord_count</th>\n",
       "    </tr>\n",
       "  </thead>\n",
       "  <tbody>\n",
       "    <tr>\n",
       "      <th>0</th>\n",
       "      <td>1009</td>\n",
       "      <td>Sheri</td>\n",
       "      <td>Aguilar</td>\n",
       "      <td>Aguilar.Sheri22@att.com</td>\n",
       "      <td>1</td>\n",
       "    </tr>\n",
       "    <tr>\n",
       "      <th>1</th>\n",
       "      <td>1010</td>\n",
       "      <td>John</td>\n",
       "      <td>Anderson</td>\n",
       "      <td>Anderson_John67@yandex.com</td>\n",
       "      <td>1</td>\n",
       "    </tr>\n",
       "    <tr>\n",
       "      <th>2</th>\n",
       "      <td>1011</td>\n",
       "      <td>Kevin</td>\n",
       "      <td>Blankenship</td>\n",
       "      <td>Kevin.B@gmail.com</td>\n",
       "      <td>1</td>\n",
       "    </tr>\n",
       "    <tr>\n",
       "      <th>3</th>\n",
       "      <td>1012</td>\n",
       "      <td>Lance</td>\n",
       "      <td>Lopez</td>\n",
       "      <td>LLopez@verizon.com</td>\n",
       "      <td>1</td>\n",
       "    </tr>\n",
       "    <tr>\n",
       "      <th>4</th>\n",
       "      <td>1013</td>\n",
       "      <td>Erik</td>\n",
       "      <td>Young</td>\n",
       "      <td>EYoung@gmail.com</td>\n",
       "      <td>3</td>\n",
       "    </tr>\n",
       "    <tr>\n",
       "      <th>...</th>\n",
       "      <td>...</td>\n",
       "      <td>...</td>\n",
       "      <td>...</td>\n",
       "      <td>...</td>\n",
       "      <td>...</td>\n",
       "    </tr>\n",
       "    <tr>\n",
       "      <th>290</th>\n",
       "      <td>1402</td>\n",
       "      <td>Sheila</td>\n",
       "      <td>Gibson</td>\n",
       "      <td>Gibson.Sheila@gmail.com</td>\n",
       "      <td>1</td>\n",
       "    </tr>\n",
       "    <tr>\n",
       "      <th>291</th>\n",
       "      <td>1403</td>\n",
       "      <td>Julie</td>\n",
       "      <td>Thomas</td>\n",
       "      <td>JThomas@mail.com</td>\n",
       "      <td>1</td>\n",
       "    </tr>\n",
       "    <tr>\n",
       "      <th>292</th>\n",
       "      <td>1404</td>\n",
       "      <td>Sarah</td>\n",
       "      <td>Juarez</td>\n",
       "      <td>SJuarez71@verizon.com</td>\n",
       "      <td>1</td>\n",
       "    </tr>\n",
       "    <tr>\n",
       "      <th>293</th>\n",
       "      <td>1405</td>\n",
       "      <td>Tony</td>\n",
       "      <td>Richardson</td>\n",
       "      <td>Richardson.Tony@yandex.com</td>\n",
       "      <td>1</td>\n",
       "    </tr>\n",
       "    <tr>\n",
       "      <th>294</th>\n",
       "      <td>1406</td>\n",
       "      <td>Steven</td>\n",
       "      <td>Wolf</td>\n",
       "      <td>Steven_Wolf16@gmail.com</td>\n",
       "      <td>1</td>\n",
       "    </tr>\n",
       "  </tbody>\n",
       "</table>\n",
       "<p>295 rows × 5 columns</p>\n",
       "</div>"
      ],
      "text/plain": [
       "       id first_name    last_name                       email  ord_count\n",
       "0    1009      Sheri      Aguilar     Aguilar.Sheri22@att.com          1\n",
       "1    1010       John     Anderson  Anderson_John67@yandex.com          1\n",
       "2    1011      Kevin  Blankenship           Kevin.B@gmail.com          1\n",
       "3    1012      Lance        Lopez          LLopez@verizon.com          1\n",
       "4    1013       Erik        Young            EYoung@gmail.com          3\n",
       "..    ...        ...          ...                         ...        ...\n",
       "290  1402     Sheila       Gibson     Gibson.Sheila@gmail.com          1\n",
       "291  1403      Julie       Thomas            JThomas@mail.com          1\n",
       "292  1404      Sarah       Juarez       SJuarez71@verizon.com          1\n",
       "293  1405       Tony   Richardson  Richardson.Tony@yandex.com          1\n",
       "294  1406     Steven         Wolf     Steven_Wolf16@gmail.com          1\n",
       "\n",
       "[295 rows x 5 columns]"
      ]
     },
     "execution_count": 86,
     "metadata": {},
     "output_type": "execute_result"
    }
   ],
   "source": [
    "order_count_2021"
   ]
  },
  {
   "cell_type": "markdown",
   "id": "c0f1fcf6",
   "metadata": {},
   "source": [
    "### Step 3: Filter to a one_order dataframe with id, name and email"
   ]
  },
  {
   "cell_type": "code",
   "execution_count": 87,
   "id": "3c30833c",
   "metadata": {},
   "outputs": [],
   "source": [
    "one_order_cust_2021 = order_count_2021[order_count_2021['ord_count']==1].reset_index()"
   ]
  },
  {
   "cell_type": "code",
   "execution_count": 88,
   "id": "eed0c532",
   "metadata": {},
   "outputs": [
    {
     "data": {
      "text/html": [
       "<div>\n",
       "<style scoped>\n",
       "    .dataframe tbody tr th:only-of-type {\n",
       "        vertical-align: middle;\n",
       "    }\n",
       "\n",
       "    .dataframe tbody tr th {\n",
       "        vertical-align: top;\n",
       "    }\n",
       "\n",
       "    .dataframe thead th {\n",
       "        text-align: right;\n",
       "    }\n",
       "</style>\n",
       "<table border=\"1\" class=\"dataframe\">\n",
       "  <thead>\n",
       "    <tr style=\"text-align: right;\">\n",
       "      <th></th>\n",
       "      <th>index</th>\n",
       "      <th>id</th>\n",
       "      <th>first_name</th>\n",
       "      <th>last_name</th>\n",
       "      <th>email</th>\n",
       "      <th>ord_count</th>\n",
       "    </tr>\n",
       "  </thead>\n",
       "  <tbody>\n",
       "    <tr>\n",
       "      <th>0</th>\n",
       "      <td>0</td>\n",
       "      <td>1009</td>\n",
       "      <td>Sheri</td>\n",
       "      <td>Aguilar</td>\n",
       "      <td>Aguilar.Sheri22@att.com</td>\n",
       "      <td>1</td>\n",
       "    </tr>\n",
       "    <tr>\n",
       "      <th>1</th>\n",
       "      <td>1</td>\n",
       "      <td>1010</td>\n",
       "      <td>John</td>\n",
       "      <td>Anderson</td>\n",
       "      <td>Anderson_John67@yandex.com</td>\n",
       "      <td>1</td>\n",
       "    </tr>\n",
       "    <tr>\n",
       "      <th>2</th>\n",
       "      <td>2</td>\n",
       "      <td>1011</td>\n",
       "      <td>Kevin</td>\n",
       "      <td>Blankenship</td>\n",
       "      <td>Kevin.B@gmail.com</td>\n",
       "      <td>1</td>\n",
       "    </tr>\n",
       "    <tr>\n",
       "      <th>3</th>\n",
       "      <td>3</td>\n",
       "      <td>1012</td>\n",
       "      <td>Lance</td>\n",
       "      <td>Lopez</td>\n",
       "      <td>LLopez@verizon.com</td>\n",
       "      <td>1</td>\n",
       "    </tr>\n",
       "    <tr>\n",
       "      <th>4</th>\n",
       "      <td>5</td>\n",
       "      <td>1014</td>\n",
       "      <td>Kyle</td>\n",
       "      <td>Singh</td>\n",
       "      <td>Singh_Kyle@hotmail.com</td>\n",
       "      <td>1</td>\n",
       "    </tr>\n",
       "    <tr>\n",
       "      <th>...</th>\n",
       "      <td>...</td>\n",
       "      <td>...</td>\n",
       "      <td>...</td>\n",
       "      <td>...</td>\n",
       "      <td>...</td>\n",
       "      <td>...</td>\n",
       "    </tr>\n",
       "    <tr>\n",
       "      <th>218</th>\n",
       "      <td>290</td>\n",
       "      <td>1402</td>\n",
       "      <td>Sheila</td>\n",
       "      <td>Gibson</td>\n",
       "      <td>Gibson.Sheila@gmail.com</td>\n",
       "      <td>1</td>\n",
       "    </tr>\n",
       "    <tr>\n",
       "      <th>219</th>\n",
       "      <td>291</td>\n",
       "      <td>1403</td>\n",
       "      <td>Julie</td>\n",
       "      <td>Thomas</td>\n",
       "      <td>JThomas@mail.com</td>\n",
       "      <td>1</td>\n",
       "    </tr>\n",
       "    <tr>\n",
       "      <th>220</th>\n",
       "      <td>292</td>\n",
       "      <td>1404</td>\n",
       "      <td>Sarah</td>\n",
       "      <td>Juarez</td>\n",
       "      <td>SJuarez71@verizon.com</td>\n",
       "      <td>1</td>\n",
       "    </tr>\n",
       "    <tr>\n",
       "      <th>221</th>\n",
       "      <td>293</td>\n",
       "      <td>1405</td>\n",
       "      <td>Tony</td>\n",
       "      <td>Richardson</td>\n",
       "      <td>Richardson.Tony@yandex.com</td>\n",
       "      <td>1</td>\n",
       "    </tr>\n",
       "    <tr>\n",
       "      <th>222</th>\n",
       "      <td>294</td>\n",
       "      <td>1406</td>\n",
       "      <td>Steven</td>\n",
       "      <td>Wolf</td>\n",
       "      <td>Steven_Wolf16@gmail.com</td>\n",
       "      <td>1</td>\n",
       "    </tr>\n",
       "  </tbody>\n",
       "</table>\n",
       "<p>223 rows × 6 columns</p>\n",
       "</div>"
      ],
      "text/plain": [
       "     index    id first_name    last_name                       email   \n",
       "0        0  1009      Sheri      Aguilar     Aguilar.Sheri22@att.com  \\\n",
       "1        1  1010       John     Anderson  Anderson_John67@yandex.com   \n",
       "2        2  1011      Kevin  Blankenship           Kevin.B@gmail.com   \n",
       "3        3  1012      Lance        Lopez          LLopez@verizon.com   \n",
       "4        5  1014       Kyle        Singh      Singh_Kyle@hotmail.com   \n",
       "..     ...   ...        ...          ...                         ...   \n",
       "218    290  1402     Sheila       Gibson     Gibson.Sheila@gmail.com   \n",
       "219    291  1403      Julie       Thomas            JThomas@mail.com   \n",
       "220    292  1404      Sarah       Juarez       SJuarez71@verizon.com   \n",
       "221    293  1405       Tony   Richardson  Richardson.Tony@yandex.com   \n",
       "222    294  1406     Steven         Wolf     Steven_Wolf16@gmail.com   \n",
       "\n",
       "     ord_count  \n",
       "0            1  \n",
       "1            1  \n",
       "2            1  \n",
       "3            1  \n",
       "4            1  \n",
       "..         ...  \n",
       "218          1  \n",
       "219          1  \n",
       "220          1  \n",
       "221          1  \n",
       "222          1  \n",
       "\n",
       "[223 rows x 6 columns]"
      ]
     },
     "execution_count": 88,
     "metadata": {},
     "output_type": "execute_result"
    }
   ],
   "source": [
    "one_order_cust_2021"
   ]
  },
  {
   "cell_type": "code",
   "execution_count": 89,
   "id": "b7f20072",
   "metadata": {},
   "outputs": [
    {
     "data": {
      "text/plain": [
       "223"
      ]
     },
     "execution_count": 89,
     "metadata": {},
     "output_type": "execute_result"
    }
   ],
   "source": [
    "one_order_cust_2021['id'].nunique()"
   ]
  },
  {
   "cell_type": "markdown",
   "id": "71d4f88c",
   "metadata": {},
   "source": [
    "## Question 9: Find out if the discount code ‘BLACKFRIDAY22’ was as successful as 2021 ‘BLACKFRIDAY21’ and total amount of sales from both discount codes."
   ]
  },
  {
   "cell_type": "code",
   "execution_count": 90,
   "id": "ed63bf3d",
   "metadata": {},
   "outputs": [
    {
     "data": {
      "text/html": [
       "<div>\n",
       "<style scoped>\n",
       "    .dataframe tbody tr th:only-of-type {\n",
       "        vertical-align: middle;\n",
       "    }\n",
       "\n",
       "    .dataframe tbody tr th {\n",
       "        vertical-align: top;\n",
       "    }\n",
       "\n",
       "    .dataframe thead th {\n",
       "        text-align: right;\n",
       "    }\n",
       "</style>\n",
       "<table border=\"1\" class=\"dataframe\">\n",
       "  <thead>\n",
       "    <tr style=\"text-align: right;\">\n",
       "      <th></th>\n",
       "      <th>order_id</th>\n",
       "      <th>order_timestamp</th>\n",
       "      <th>delivered_timestamp</th>\n",
       "      <th>driver_id</th>\n",
       "      <th>restaurant_id</th>\n",
       "      <th>cust_id</th>\n",
       "      <th>delivery_region</th>\n",
       "      <th>discount_applied</th>\n",
       "      <th>discount_code</th>\n",
       "      <th>order_total</th>\n",
       "      <th>discount_pc</th>\n",
       "      <th>status</th>\n",
       "      <th>order_month</th>\n",
       "      <th>order_year</th>\n",
       "    </tr>\n",
       "  </thead>\n",
       "  <tbody>\n",
       "    <tr>\n",
       "      <th>0</th>\n",
       "      <td>100001</td>\n",
       "      <td>2021-11-26 18:22:00</td>\n",
       "      <td>2021-11-26 18:49:00</td>\n",
       "      <td>273</td>\n",
       "      <td>105</td>\n",
       "      <td>1016</td>\n",
       "      <td>Dublin</td>\n",
       "      <td>True</td>\n",
       "      <td>BLACKFRIDAY21</td>\n",
       "      <td>69.46</td>\n",
       "      <td>20.0</td>\n",
       "      <td>COMPLETED</td>\n",
       "      <td>11</td>\n",
       "      <td>2021</td>\n",
       "    </tr>\n",
       "    <tr>\n",
       "      <th>1</th>\n",
       "      <td>100002</td>\n",
       "      <td>2021-07-11 21:23:00</td>\n",
       "      <td>2021-07-11 21:53:00</td>\n",
       "      <td>43</td>\n",
       "      <td>219</td>\n",
       "      <td>1017</td>\n",
       "      <td>Cork</td>\n",
       "      <td>False</td>\n",
       "      <td>NaN</td>\n",
       "      <td>69.40</td>\n",
       "      <td>NaN</td>\n",
       "      <td>COMPLETED</td>\n",
       "      <td>7</td>\n",
       "      <td>2021</td>\n",
       "    </tr>\n",
       "    <tr>\n",
       "      <th>2</th>\n",
       "      <td>100003</td>\n",
       "      <td>2021-04-27 17:28:00</td>\n",
       "      <td>2021-04-27 17:55:00</td>\n",
       "      <td>299</td>\n",
       "      <td>48</td>\n",
       "      <td>1019</td>\n",
       "      <td>Dublin</td>\n",
       "      <td>False</td>\n",
       "      <td>NaN</td>\n",
       "      <td>47.16</td>\n",
       "      <td>NaN</td>\n",
       "      <td>COMPLETED</td>\n",
       "      <td>4</td>\n",
       "      <td>2021</td>\n",
       "    </tr>\n",
       "    <tr>\n",
       "      <th>3</th>\n",
       "      <td>100004</td>\n",
       "      <td>2021-02-22 18:08:00</td>\n",
       "      <td>2021-02-22 18:35:00</td>\n",
       "      <td>320</td>\n",
       "      <td>233</td>\n",
       "      <td>1020</td>\n",
       "      <td>Dublin</td>\n",
       "      <td>False</td>\n",
       "      <td>NaN</td>\n",
       "      <td>47.15</td>\n",
       "      <td>NaN</td>\n",
       "      <td>COMPLETED</td>\n",
       "      <td>2</td>\n",
       "      <td>2021</td>\n",
       "    </tr>\n",
       "    <tr>\n",
       "      <th>4</th>\n",
       "      <td>100005</td>\n",
       "      <td>2021-06-21 18:14:00</td>\n",
       "      <td>2021-06-21 18:44:00</td>\n",
       "      <td>41</td>\n",
       "      <td>207</td>\n",
       "      <td>1024</td>\n",
       "      <td>Dublin</td>\n",
       "      <td>False</td>\n",
       "      <td>NaN</td>\n",
       "      <td>47.00</td>\n",
       "      <td>NaN</td>\n",
       "      <td>COMPLETED</td>\n",
       "      <td>6</td>\n",
       "      <td>2021</td>\n",
       "    </tr>\n",
       "  </tbody>\n",
       "</table>\n",
       "</div>"
      ],
      "text/plain": [
       "   order_id     order_timestamp delivered_timestamp  driver_id  restaurant_id   \n",
       "0    100001 2021-11-26 18:22:00 2021-11-26 18:49:00        273            105  \\\n",
       "1    100002 2021-07-11 21:23:00 2021-07-11 21:53:00         43            219   \n",
       "2    100003 2021-04-27 17:28:00 2021-04-27 17:55:00        299             48   \n",
       "3    100004 2021-02-22 18:08:00 2021-02-22 18:35:00        320            233   \n",
       "4    100005 2021-06-21 18:14:00 2021-06-21 18:44:00         41            207   \n",
       "\n",
       "   cust_id delivery_region  discount_applied  discount_code  order_total   \n",
       "0     1016          Dublin              True  BLACKFRIDAY21        69.46  \\\n",
       "1     1017            Cork             False            NaN        69.40   \n",
       "2     1019          Dublin             False            NaN        47.16   \n",
       "3     1020          Dublin             False            NaN        47.15   \n",
       "4     1024          Dublin             False            NaN        47.00   \n",
       "\n",
       "   discount_pc     status  order_month  order_year  \n",
       "0         20.0  COMPLETED           11        2021  \n",
       "1          NaN  COMPLETED            7        2021  \n",
       "2          NaN  COMPLETED            4        2021  \n",
       "3          NaN  COMPLETED            2        2021  \n",
       "4          NaN  COMPLETED            6        2021  "
      ]
     },
     "execution_count": 90,
     "metadata": {},
     "output_type": "execute_result"
    }
   ],
   "source": [
    "hd_order.head()"
   ]
  },
  {
   "cell_type": "markdown",
   "id": "34d3aada",
   "metadata": {},
   "source": [
    "### Step 1: Calculate sales amount from all discount codes"
   ]
  },
  {
   "cell_type": "code",
   "execution_count": 91,
   "id": "027e558d",
   "metadata": {},
   "outputs": [],
   "source": [
    "discode_sale = hd_order.groupby(['discount_code','order_year'])['order_total'].sum().to_frame('amount').reset_index()"
   ]
  },
  {
   "cell_type": "code",
   "execution_count": 92,
   "id": "8d0e3cd9",
   "metadata": {},
   "outputs": [
    {
     "data": {
      "text/html": [
       "<div>\n",
       "<style scoped>\n",
       "    .dataframe tbody tr th:only-of-type {\n",
       "        vertical-align: middle;\n",
       "    }\n",
       "\n",
       "    .dataframe tbody tr th {\n",
       "        vertical-align: top;\n",
       "    }\n",
       "\n",
       "    .dataframe thead th {\n",
       "        text-align: right;\n",
       "    }\n",
       "</style>\n",
       "<table border=\"1\" class=\"dataframe\">\n",
       "  <thead>\n",
       "    <tr style=\"text-align: right;\">\n",
       "      <th></th>\n",
       "      <th>discount_code</th>\n",
       "      <th>order_year</th>\n",
       "      <th>amount</th>\n",
       "    </tr>\n",
       "  </thead>\n",
       "  <tbody>\n",
       "    <tr>\n",
       "      <th>0</th>\n",
       "      <td>BLACKFRIDAY21</td>\n",
       "      <td>2021</td>\n",
       "      <td>734.53</td>\n",
       "    </tr>\n",
       "    <tr>\n",
       "      <th>1</th>\n",
       "      <td>BLACKFRIDAY22</td>\n",
       "      <td>2022</td>\n",
       "      <td>1211.22</td>\n",
       "    </tr>\n",
       "    <tr>\n",
       "      <th>2</th>\n",
       "      <td>HAPPYBIRTHDAY</td>\n",
       "      <td>2021</td>\n",
       "      <td>381.05</td>\n",
       "    </tr>\n",
       "    <tr>\n",
       "      <th>3</th>\n",
       "      <td>HAPPYBIRTHDAY</td>\n",
       "      <td>2022</td>\n",
       "      <td>224.61</td>\n",
       "    </tr>\n",
       "  </tbody>\n",
       "</table>\n",
       "</div>"
      ],
      "text/plain": [
       "   discount_code  order_year   amount\n",
       "0  BLACKFRIDAY21        2021   734.53\n",
       "1  BLACKFRIDAY22        2022  1211.22\n",
       "2  HAPPYBIRTHDAY        2021   381.05\n",
       "3  HAPPYBIRTHDAY        2022   224.61"
      ]
     },
     "execution_count": 92,
     "metadata": {},
     "output_type": "execute_result"
    }
   ],
   "source": [
    "discode_sale"
   ]
  },
  {
   "cell_type": "markdown",
   "id": "2dbf6d6b",
   "metadata": {},
   "source": [
    "### Step 2: Filter 'HAPPYBIRTHDAY' sales out"
   ]
  },
  {
   "cell_type": "code",
   "execution_count": 93,
   "id": "a09eb0fe",
   "metadata": {},
   "outputs": [],
   "source": [
    "BF_21_22 = discode_sale[discode_sale['discount_code'] !='HAPPYBIRTHDAY']"
   ]
  },
  {
   "cell_type": "code",
   "execution_count": 94,
   "id": "69386552",
   "metadata": {
    "scrolled": true
   },
   "outputs": [
    {
     "data": {
      "text/html": [
       "<div>\n",
       "<style scoped>\n",
       "    .dataframe tbody tr th:only-of-type {\n",
       "        vertical-align: middle;\n",
       "    }\n",
       "\n",
       "    .dataframe tbody tr th {\n",
       "        vertical-align: top;\n",
       "    }\n",
       "\n",
       "    .dataframe thead th {\n",
       "        text-align: right;\n",
       "    }\n",
       "</style>\n",
       "<table border=\"1\" class=\"dataframe\">\n",
       "  <thead>\n",
       "    <tr style=\"text-align: right;\">\n",
       "      <th></th>\n",
       "      <th>discount_code</th>\n",
       "      <th>order_year</th>\n",
       "      <th>amount</th>\n",
       "    </tr>\n",
       "  </thead>\n",
       "  <tbody>\n",
       "    <tr>\n",
       "      <th>0</th>\n",
       "      <td>BLACKFRIDAY21</td>\n",
       "      <td>2021</td>\n",
       "      <td>734.53</td>\n",
       "    </tr>\n",
       "    <tr>\n",
       "      <th>1</th>\n",
       "      <td>BLACKFRIDAY22</td>\n",
       "      <td>2022</td>\n",
       "      <td>1211.22</td>\n",
       "    </tr>\n",
       "  </tbody>\n",
       "</table>\n",
       "</div>"
      ],
      "text/plain": [
       "   discount_code  order_year   amount\n",
       "0  BLACKFRIDAY21        2021   734.53\n",
       "1  BLACKFRIDAY22        2022  1211.22"
      ]
     },
     "execution_count": 94,
     "metadata": {},
     "output_type": "execute_result"
    }
   ],
   "source": [
    "BF_21_22"
   ]
  },
  {
   "cell_type": "markdown",
   "id": "f6b5f043",
   "metadata": {},
   "source": [
    "## Question 10: What were the locations with the lowest cumulative sales for 2022?  (Perhaps other factors are responsible for example low population)"
   ]
  },
  {
   "cell_type": "code",
   "execution_count": 96,
   "id": "3090ab34",
   "metadata": {},
   "outputs": [],
   "source": [
    "lowsale_reg_2022 = hd_order[hd_order['order_year']==2022].groupby('delivery_region')['order_total'].sum().nsmallest(2).reset_index()"
   ]
  },
  {
   "cell_type": "code",
   "execution_count": 97,
   "id": "eb3470e4",
   "metadata": {},
   "outputs": [
    {
     "data": {
      "text/html": [
       "<div>\n",
       "<style scoped>\n",
       "    .dataframe tbody tr th:only-of-type {\n",
       "        vertical-align: middle;\n",
       "    }\n",
       "\n",
       "    .dataframe tbody tr th {\n",
       "        vertical-align: top;\n",
       "    }\n",
       "\n",
       "    .dataframe thead th {\n",
       "        text-align: right;\n",
       "    }\n",
       "</style>\n",
       "<table border=\"1\" class=\"dataframe\">\n",
       "  <thead>\n",
       "    <tr style=\"text-align: right;\">\n",
       "      <th></th>\n",
       "      <th>delivery_region</th>\n",
       "      <th>order_total</th>\n",
       "    </tr>\n",
       "  </thead>\n",
       "  <tbody>\n",
       "    <tr>\n",
       "      <th>0</th>\n",
       "      <td>Leitrim</td>\n",
       "      <td>493.89</td>\n",
       "    </tr>\n",
       "    <tr>\n",
       "      <th>1</th>\n",
       "      <td>Sligo</td>\n",
       "      <td>914.41</td>\n",
       "    </tr>\n",
       "  </tbody>\n",
       "</table>\n",
       "</div>"
      ],
      "text/plain": [
       "  delivery_region  order_total\n",
       "0         Leitrim       493.89\n",
       "1           Sligo       914.41"
      ]
     },
     "execution_count": 97,
     "metadata": {},
     "output_type": "execute_result"
    }
   ],
   "source": [
    "lowsale_reg_2022"
   ]
  },
  {
   "cell_type": "markdown",
   "id": "eb1e716e",
   "metadata": {},
   "source": [
    "# Conclusion"
   ]
  },
  {
   "cell_type": "markdown",
   "id": "f66b5865",
   "metadata": {},
   "source": [
    "#### Report 1: Sales increased in each month of 2022 compared to 2021. In both years, there is a significant decline in September and a peak in November. Sales in November 2022 are more than twice as high as sales in November 2021."
   ]
  },
  {
   "cell_type": "markdown",
   "id": "5b5ee2a7",
   "metadata": {},
   "source": [
    "#### Report 2: The 25% percentile to 75% percentile of loyalty cardholders are between the ages of 22 and 31, and the median age of loyalty cardholders is 26. The number of 22-year-old loyalty cardholders peaks at 41."
   ]
  },
  {
   "cell_type": "markdown",
   "id": "2b187bed",
   "metadata": {},
   "source": [
    "#### Report 3:  The Pearson correlation between the amount spent by loyalty cardholders and their age is '0.033' , which is considered as 'no correlation', The scatter plot also does not show a significant correlation."
   ]
  },
  {
   "cell_type": "markdown",
   "id": "a552bd99",
   "metadata": {},
   "source": [
    "#### Report 4: The scatter plot of loyalty cardholder using discount and not using discount vs their age doesn't show correlation between the their actual spending and their age."
   ]
  },
  {
   "cell_type": "markdown",
   "id": "64dff26b",
   "metadata": {},
   "source": [
    "#### Report 5: In 2022, the region with the highest sales is Dublin with €7,193 and Leitrim is the region with the lowest sales at €494."
   ]
  },
  {
   "cell_type": "markdown",
   "id": "16f2f71c",
   "metadata": {},
   "source": [
    "#### Question 6: The top 10 spending customers id, name and email  in 2022 are: \n",
    "1027\tJason\tDudley\tjason_D@zoho.com, \n",
    "1126\tDeanna\tKnight  DeannaKnight@protonmail.com, \t\n",
    "1009\tSheri\tAguilar\tAguilar.Sheri22@att.com, \n",
    "1023\tGabrielle\tMorgan\tGMorgan48@mail.com, \n",
    "1021\tJoshua\tKidd\tJoshua_K@att.com, \t\n",
    "1018\tDavid\tSnyder\tDavid.S@hotmail.com, \t\n",
    "1227\tAndrew\tCantu\tAndrew_Cantu@yandex.com, \t\n",
    "1028\tDavid\tMurphy\tMurphy.David@mail.com, \t\n",
    "1059\tBrent\tHarrell\tHarrell.Brent13@protonmail.com, \n",
    "1029\tMeagan\tGonzalez  Gonzalez_Meagan43@mail.com\t"
   ]
  },
  {
   "cell_type": "markdown",
   "id": "26ead2a8",
   "metadata": {},
   "source": [
    "#### Question 7: The top 3 restaurant IDs for sales in 2022 are: 9, 107, 8."
   ]
  },
  {
   "cell_type": "markdown",
   "id": "dc8326b1",
   "metadata": {},
   "source": [
    "#### Question 8: There are 223 loyalty cardholders who have placed only one order in 2021."
   ]
  },
  {
   "cell_type": "markdown",
   "id": "6ad23fa6",
   "metadata": {},
   "source": [
    "#### Question 9: The sales of \"BLACKFRIDAY22\" are almost twice as high as those of \"BLACKFRIDAY21\", and the corresponding sales of the two discount codes is increased from 735€ to 1,211€."
   ]
  },
  {
   "cell_type": "markdown",
   "id": "7c694518",
   "metadata": {},
   "source": [
    "#### Question 10: The 2 regions with the lowest sales in 2022 are Leitrim and Sligo. According to Wikipedia, these two regions have populations of 35,087 and 69,819 respectively, both of which are listed as the least populated regions in Ireland. Low sales may correspond to a low population. However, more evidence is needed to further investigate the causes of low sales."
   ]
  }
 ],
 "metadata": {
  "kernelspec": {
   "display_name": "Python 3 (ipykernel)",
   "language": "python",
   "name": "python3"
  },
  "language_info": {
   "codemirror_mode": {
    "name": "ipython",
    "version": 3
   },
   "file_extension": ".py",
   "mimetype": "text/x-python",
   "name": "python",
   "nbconvert_exporter": "python",
   "pygments_lexer": "ipython3",
   "version": "3.11.3"
  }
 },
 "nbformat": 4,
 "nbformat_minor": 5
}
